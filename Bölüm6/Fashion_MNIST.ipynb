{
  "nbformat": 4,
  "nbformat_minor": 0,
  "metadata": {
    "colab": {
      "name": "Fashion_MNIST.ipynb",
      "provenance": [],
      "collapsed_sections": []
    },
    "kernelspec": {
      "name": "python3",
      "display_name": "Python 3"
    },
    "accelerator": "GPU"
  },
  "cells": [
    {
      "cell_type": "markdown",
      "metadata": {
        "id": "UN5hoeJa_tfv",
        "colab_type": "text"
      },
      "source": [
        "# Fashion-MNIST - Evrişimli Sinir Ağı\n",
        "\n",
        "---\n",
        "[<img align=\"right\" width=\"100\" height=\"100\" src=\"http://www.i2symbol.com/images/symbols/style-letters/circled_latin_capital_letter_a_u24B6_icon_128x128.png\">](https://www.ayyucekizrak.com/)\n",
        "\n"
      ]
    },
    {
      "cell_type": "markdown",
      "metadata": {
        "id": "Qs1XkC0joINs",
        "colab_type": "text"
      },
      "source": [
        "**Colab** için kimlik doğrulama işlemler..."
      ]
    },
    {
      "cell_type": "code",
      "metadata": {
        "id": "Ao0SgeF7AIIT",
        "colab_type": "code",
        "colab": {
          "base_uri": "https://localhost:8080/",
          "height": 128
        },
        "outputId": "c68edca7-66ad-447a-d135-4f6555cd27c1"
      },
      "source": [
        "from google.colab import drive\n",
        "drive.mount('/content/drive/')"
      ],
      "execution_count": null,
      "outputs": [
        {
          "output_type": "stream",
          "text": [
            "Go to this URL in a browser: https://accounts.google.com/o/oauth2/auth?client_id=947318989803-6bn6qk8qdgf4n4g3pfee6491hc0brc4i.apps.googleusercontent.com&redirect_uri=urn%3Aietf%3Awg%3Aoauth%3A2.0%3Aoob&scope=email%20https%3A%2F%2Fwww.googleapis.com%2Fauth%2Fdocs.test%20https%3A%2F%2Fwww.googleapis.com%2Fauth%2Fdrive%20https%3A%2F%2Fwww.googleapis.com%2Fauth%2Fdrive.photos.readonly%20https%3A%2F%2Fwww.googleapis.com%2Fauth%2Fpeopleapi.readonly&response_type=code\n",
            "\n",
            "Enter your authorization code:\n",
            "··········\n",
            "Mounted at /content/drive/\n"
          ],
          "name": "stdout"
        }
      ]
    },
    {
      "cell_type": "code",
      "metadata": {
        "id": "RABJQSukAeYU",
        "colab_type": "code",
        "colab": {
          "base_uri": "https://localhost:8080/",
          "height": 35
        },
        "outputId": "0d9304e1-6d6a-48c3-c4ef-b6121a69ffcb"
      },
      "source": [
        "!ls drive"
      ],
      "execution_count": null,
      "outputs": [
        {
          "output_type": "stream",
          "text": [
            "'My Drive'\n"
          ],
          "name": "stdout"
        }
      ]
    },
    {
      "cell_type": "markdown",
      "metadata": {
        "id": "545giQNWoNj_",
        "colab_type": "text"
      },
      "source": [
        "### Kütüphane kurulumu"
      ]
    },
    {
      "cell_type": "code",
      "metadata": {
        "id": "Fy0YcXqjAg7g",
        "colab_type": "code",
        "colab": {}
      },
      "source": [
        "!pip3 install -q keras"
      ],
      "execution_count": null,
      "outputs": []
    },
    {
      "cell_type": "markdown",
      "metadata": {
        "id": "Sifzs-gNoUfR",
        "colab_type": "text"
      },
      "source": [
        "### Fashion MNIST veri setine bir gözatalım!"
      ]
    },
    {
      "cell_type": "markdown",
      "metadata": {
        "id": "n66L733VAvs6",
        "colab_type": "text"
      },
      "source": [
        "\n",
        "![alt text](https://github.com/zalandoresearch/fashion-mnist/raw/master/doc/img/fashion-mnist-sprite.png)\n",
        "![alt text](https://github.com/zalandoresearch/fashion-mnist/raw/master/doc/img/embedding.gif)"
      ]
    },
    {
      "cell_type": "markdown",
      "metadata": {
        "id": "ZaVXdS6NoGH8",
        "colab_type": "text"
      },
      "source": [
        "**Gerekli paketler yükleniyor...**"
      ]
    },
    {
      "cell_type": "code",
      "metadata": {
        "id": "CmXqyw_x_s66",
        "colab_type": "code",
        "colab": {
          "base_uri": "https://localhost:8080/",
          "height": 35
        },
        "outputId": "4dfcdd45-f896-4dd8-d035-e3277340b947"
      },
      "source": [
        "from __future__ import print_function\n",
        "import keras\n",
        "from keras.datasets import fashion_mnist\n",
        "from keras.models import load_model\n",
        "import os\n",
        "import numpy as np\n",
        "\n",
        "import matplotlib.pyplot as plt\n",
        "from matplotlib import cm\n",
        "%matplotlib inline\n",
        "\n",
        "import random\n"
      ],
      "execution_count": null,
      "outputs": [
        {
          "output_type": "stream",
          "text": [
            "Using TensorFlow backend.\n"
          ],
          "name": "stderr"
        }
      ]
    },
    {
      "cell_type": "markdown",
      "metadata": {
        "id": "LXLG2zmcod-C",
        "colab_type": "text"
      },
      "source": [
        "**Verileri internet üzerinden çekelim!**"
      ]
    },
    {
      "cell_type": "code",
      "metadata": {
        "id": "v2lc4DKRBLFz",
        "colab_type": "code",
        "colab": {
          "base_uri": "https://localhost:8080/",
          "height": 243
        },
        "outputId": "7c1e0967-9ae4-475e-829c-a4e79863931e"
      },
      "source": [
        "#Veri setlerini yükleme\n",
        "(x_train, y_train), (x_test, y_test) = fashion_mnist.load_data()\n",
        "print('x_train shape:', x_train.shape)\n",
        "print(x_train.shape[0], 'eğitim örnekleri')\n",
        "print(x_test.shape[0], 'test örnekleri')\n",
        "\n",
        "print(x_train.shape, y_train.shape)\n",
        "print(x_test.shape, y_test.shape)"
      ],
      "execution_count": null,
      "outputs": [
        {
          "output_type": "stream",
          "text": [
            "Downloading data from http://fashion-mnist.s3-website.eu-central-1.amazonaws.com/train-labels-idx1-ubyte.gz\n",
            "32768/29515 [=================================] - 0s 0us/step\n",
            "Downloading data from http://fashion-mnist.s3-website.eu-central-1.amazonaws.com/train-images-idx3-ubyte.gz\n",
            "26427392/26421880 [==============================] - 1s 0us/step\n",
            "Downloading data from http://fashion-mnist.s3-website.eu-central-1.amazonaws.com/t10k-labels-idx1-ubyte.gz\n",
            "8192/5148 [===============================================] - 0s 0us/step\n",
            "Downloading data from http://fashion-mnist.s3-website.eu-central-1.amazonaws.com/t10k-images-idx3-ubyte.gz\n",
            "4423680/4422102 [==============================] - 0s 0us/step\n",
            "x_train shape: (60000, 28, 28)\n",
            "60000 eğitim örnekleri\n",
            "10000 test örnekleri\n",
            "(60000, 28, 28) (60000,)\n",
            "(10000, 28, 28) (10000,)\n"
          ],
          "name": "stdout"
        }
      ]
    },
    {
      "cell_type": "markdown",
      "metadata": {
        "id": "v1xwJctOokmO",
        "colab_type": "text"
      },
      "source": [
        "Veriler içinden bir örnek görelim :)"
      ]
    },
    {
      "cell_type": "code",
      "metadata": {
        "id": "HRZdVpGYa7jt",
        "colab_type": "code",
        "colab": {
          "base_uri": "https://localhost:8080/",
          "height": 283
        },
        "outputId": "6b72f426-34c4-41d3-8279-83b12aaccfd1"
      },
      "source": [
        "plt.imshow(x_train[10])"
      ],
      "execution_count": null,
      "outputs": [
        {
          "output_type": "execute_result",
          "data": {
            "text/plain": [
              "<matplotlib.image.AxesImage at 0x7f495ecc33c8>"
            ]
          },
          "metadata": {
            "tags": []
          },
          "execution_count": 4
        },
        {
          "output_type": "display_data",
          "data": {
            "image/png": "[encoded data removed]",
            "text/plain": [
              "<matplotlib.figure.Figure at 0x7f49a33ec898>"
            ]
          },
          "metadata": {
            "tags": []
          }
        }
      ]
    },
    {
      "cell_type": "markdown",
      "metadata": {
        "id": "oVwn5gxhoqKM",
        "colab_type": "text"
      },
      "source": [
        "### 10 sınıftan oluşan Fashion MNIST veri kümesinde hangi sınıflar var bakalım!"
      ]
    },
    {
      "cell_type": "code",
      "metadata": {
        "id": "AdIx7SjXBYPq",
        "colab_type": "code",
        "colab": {}
      },
      "source": [
        "# fashion mnist etiket isimleri\n",
        "fashion_mnist_labels = np.array([\n",
        "    'Tişört/Üst',\n",
        "    'Pantolon',\n",
        "    'Kazak',\n",
        "    'Elbise',\n",
        "    'Ceket',\n",
        "    'Sandalet',\n",
        "    'Gömlek',\n",
        "    'Sneaker',\n",
        "    'Çanta',\n",
        "    'Bilekte Bot'])"
      ],
      "execution_count": null,
      "outputs": []
    },
    {
      "cell_type": "markdown",
      "metadata": {
        "id": "7VZ9ES2Goxji",
        "colab_type": "text"
      },
      "source": [
        "**Daha önce eğitilmiş olan modelin ağırlıklarını` model_fashion-mnist_cnn_train2_epoch24.h5`dosyasından çekelim ve giriş görüntülerini model girişine uygun şekilde ön işlemlerden geçirelim!**"
      ]
    },
    {
      "cell_type": "code",
      "metadata": {
        "id": "TW8RKJIgB3mg",
        "colab_type": "code",
        "colab": {}
      },
      "source": [
        "root = 'drive/Udemy_DerinOgrenmeyeGiris/Evrisimli_Sinir_Aglari/NesneTanima/save_models/'\n",
        "model = load_model(root + 'model_fashion-mnist_cnn_train2_epoch24.h5')\n",
        "\n",
        "    \n",
        "def convertMnistData(image):\n",
        "    img = image.astype('float32')\n",
        "    img /= 255\n",
        "\n",
        "    return image.reshape(1,28,28,1)\n",
        "\n",
        "plt.figure(figsize=(16,16))\n",
        "\n",
        "right = 0\n",
        "mistake = 0\n",
        "prefictionNum = 200\n",
        "\n",
        "for i in range(prefictionNum):\n",
        "    index = random.randint(0, x_test.shape[0])\n",
        "    image = x_test[index]\n",
        "    data = convertMnistData(image)\n",
        "\n",
        "    plt.subplot(10, 10, i+1)\n",
        "    plt.imshow(image,  cmap=cm.gray_r)\n",
        "    plt.axis('off')\n",
        "\n",
        "    ret = model.predict(data, batch_size=1) \n",
        "    #yazdır(ret)\n",
        "\n",
        "    bestnum = 0.0\n",
        "    bestclass = 0\n",
        "    for n in [0,1,2,3,4,5,6,7,8,9]:\n",
        "        if bestnum < ret[0][n]:\n",
        "            bestnum = ret[0][n]\n",
        "            bestclass = n\n",
        "\n",
        "    if y_test[index] == bestclass:\n",
        "        plt.title(fashion_mnist_labels[bestclass])\n",
        "        right += 1\n",
        "    else:\n",
        "        #tahmin edilen sınıf != gerçek sınıf\n",
        "        plt.title(fashion_mnist_labels[bestclass] + \"!=\" + fashion_mnist_labels[y_test[index]], color='#ff0000')\n",
        "        mistake += 1\n",
        "                                                                   \n",
        "plt.show()\n",
        "print(\"Doğru tahminlerin sayısı:\", right)\n",
        "print(\"Hata sayısı:\", mistake)\n",
        "print(\"Doğru tahmin oranı:\", right/(mistake + right)*100, '%')"
      ],
      "execution_count": null,
      "outputs": []
    }
  ]
}