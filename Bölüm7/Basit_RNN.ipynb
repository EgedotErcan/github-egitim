{
  "nbformat": 4,
  "nbformat_minor": 0,
  "metadata": {
    "colab": {
      "name": "Basit_RNN.ipynb",
      "provenance": [],
      "collapsed_sections": []
    },
    "kernelspec": {
      "name": "python3",
      "display_name": "Python 3"
    }
  },
  "cells": [
    {
      "cell_type": "markdown",
      "metadata": {
        "id": "evl4dWuosZf6",
        "colab_type": "text"
      },
      "source": [
        "# Basit bir Yinelemeli Sinir Ağını Numpy ile Oluşturmak"
      ]
    },
    {
      "cell_type": "code",
      "metadata": {
        "id": "9AStx5GUUUxK",
        "colab_type": "code",
        "colab": {}
      },
      "source": [
        "import numpy as np"
      ],
      "execution_count": null,
      "outputs": []
    },
    {
      "cell_type": "markdown",
      "metadata": {
        "id": "GX1uqoTbtDj1",
        "colab_type": "text"
      },
      "source": [
        "* `timesteps` girişteki zaman adımı sayısı\n",
        "* `input_features` girdi nitelik uzayının boyutu\n",
        "* `output_features` çıktı nitelik uzayının boyutu\n",
        "\n"
      ]
    },
    {
      "cell_type": "code",
      "metadata": {
        "id": "aYIN6ciVY1Sq",
        "colab_type": "code",
        "colab": {}
      },
      "source": [
        "timesteps = 100\n",
        "input_features = 32\n",
        "output_features = 64"
      ],
      "execution_count": null,
      "outputs": []
    },
    {
      "cell_type": "markdown",
      "metadata": {
        "id": "hB1Rg9QFtdcu",
        "colab_type": "text"
      },
      "source": [
        "Basit olması için girdi verisini rastgele gürültü olarak seçelim"
      ]
    },
    {
      "cell_type": "code",
      "metadata": {
        "id": "90PvbWfsY7iV",
        "colab_type": "code",
        "colab": {}
      },
      "source": [
        "inputs = np.random.random((timesteps, input_features))"
      ],
      "execution_count": null,
      "outputs": []
    },
    {
      "cell_type": "markdown",
      "metadata": {
        "id": "CuBkabbKtk3W",
        "colab_type": "text"
      },
      "source": [
        "Başlangıç durumu için tüm elemanları sıfırdan oluşan bir vektör oluşturalım"
      ]
    },
    {
      "cell_type": "code",
      "metadata": {
        "id": "w44RZymHZBa6",
        "colab_type": "code",
        "colab": {}
      },
      "source": [
        "state_t = np.zeros((output_features,))"
      ],
      "execution_count": null,
      "outputs": []
    },
    {
      "cell_type": "markdown",
      "metadata": {
        "id": "7cE_S_EctrZL",
        "colab_type": "text"
      },
      "source": [
        "**Rastgele oluşturulan ağırlık matrisleri**\n"
      ]
    },
    {
      "cell_type": "code",
      "metadata": {
        "id": "J7bvwriXZIAL",
        "colab_type": "code",
        "colab": {}
      },
      "source": [
        "W = np.random.random((output_features, input_features))\n",
        "U = np.random.random((output_features, output_features))\n",
        "b = np.random.random((output_features,))"
      ],
      "execution_count": null,
      "outputs": []
    },
    {
      "cell_type": "markdown",
      "metadata": {
        "id": "ta82n9uyt2Qz",
        "colab_type": "text"
      },
      "source": [
        "### Girdi ve mevcut duruma göre çıktının oluşturulması \n"
      ]
    },
    {
      "cell_type": "code",
      "metadata": {
        "id": "gj8FyiEzf646",
        "colab_type": "code",
        "colab": {}
      },
      "source": [
        "successive_outputs = []\n",
        "for input_t in inputs:\n",
        "  output_t = np.tanh(np.dot(W, input_t) + np.dot(U, state_t) +b) \n",
        "  successive_outputs.append(output_t)\n",
        "  state_t = output_features\n",
        "\n",
        "final_output_sequence = np.concatenate(successive_outputs, axis=0)"
      ],
      "execution_count": null,
      "outputs": []
    },
    {
      "cell_type": "markdown",
      "metadata": {
        "id": "jeNZMohxt-fT",
        "colab_type": "text"
      },
      "source": [
        "En basit hali ile Yinelemeli Sinir Ağları (RNN) her döngü adımında bir önceki adımın değerini kullanmaktadır. \n",
        "\n",
        "![Simple RNN](https://img1.daumcdn.net/thumb/R800x0/?scode=mtistory2&fname=https%3A%2F%2Ft1.daumcdn.net%2Fcfile%2Ftistory%2F99E7EA485A9E2CBE17)"
      ]
    },
    {
      "cell_type": "code",
      "metadata": {
        "id": "MnR0Q7craODH",
        "colab_type": "code",
        "colab": {}
      },
      "source": [
        "output_t = np.tanh(np.dot(W, input_t) + np.dot(U, state_t) + b)"
      ],
      "execution_count": null,
      "outputs": []
    },
    {
      "cell_type": "code",
      "metadata": {
        "id": "FIpbYFLrizF4",
        "colab_type": "code",
        "colab": {
          "base_uri": "https://localhost:8080/",
          "height": 238
        },
        "outputId": "377e6841-13b1-446e-f6d6-1eb3174ba87e"
      },
      "source": [
        "output_t"
      ],
      "execution_count": null,
      "outputs": [
        {
          "output_type": "execute_result",
          "data": {
            "text/plain": [
              "array([[1.        , 1.        , 1.        , ..., 1.        , 1.        ,\n",
              "        1.        ],\n",
              "       [1.        , 1.        , 1.        , ..., 1.        , 1.        ,\n",
              "        1.        ],\n",
              "       [1.        , 1.        , 1.        , ..., 1.        , 1.        ,\n",
              "        1.        ],\n",
              "       ...,\n",
              "       [1.        , 1.        , 1.        , ..., 1.        , 1.        ,\n",
              "        1.        ],\n",
              "       [0.99999996, 1.        , 1.        , ..., 0.99999994, 1.        ,\n",
              "        1.        ],\n",
              "       [1.        , 1.        , 1.        , ..., 1.        , 1.        ,\n",
              "        1.        ]])"
            ]
          },
          "metadata": {
            "tags": []
          },
          "execution_count": 11
        }
      ]
    },
    {
      "cell_type": "code",
      "metadata": {
        "id": "QFOYXZEji08e",
        "colab_type": "code",
        "colab": {}
      },
      "source": [
        ""
      ],
      "execution_count": null,
      "outputs": []
    }
  ]
}