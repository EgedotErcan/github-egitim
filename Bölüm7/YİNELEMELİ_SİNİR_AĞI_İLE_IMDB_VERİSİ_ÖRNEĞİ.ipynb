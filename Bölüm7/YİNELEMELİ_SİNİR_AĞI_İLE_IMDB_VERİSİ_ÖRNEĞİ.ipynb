{
  "nbformat": 4,
  "nbformat_minor": 0,
  "metadata": {
    "colab": {
      "name": "YİNELEMELİ SİNİR AĞI İLE IMDB VERİSİ ÖRNEĞİ.ipynb",
      "provenance": []
    },
    "kernelspec": {
      "name": "python3",
      "display_name": "Python 3"
    }
  },
  "cells": [
    {
      "cell_type": "markdown",
      "metadata": {
        "id": "_JfgYBMIrqaT",
        "colab_type": "text"
      },
      "source": [
        "## YİNELEMELİ SİNİR AĞI KATMANLARININ OLUŞTURULMASI"
      ]
    },
    {
      "cell_type": "code",
      "metadata": {
        "id": "vlT3H3xTbCZV",
        "colab_type": "code",
        "colab": {
          "base_uri": "https://localhost:8080/",
          "height": 34
        },
        "outputId": "4eff9e11-f980-40c2-9b3a-4b1d4082312a"
      },
      "source": [
        "from keras.layers import SimpleRNN"
      ],
      "execution_count": null,
      "outputs": [
        {
          "output_type": "stream",
          "text": [
            "Using TensorFlow backend.\n"
          ],
          "name": "stderr"
        }
      ]
    },
    {
      "cell_type": "code",
      "metadata": {
        "id": "y12FAWwdd0br",
        "colab_type": "code",
        "colab": {}
      },
      "source": [
        "from keras.models import Sequential\n",
        "from keras.layers import Embedding"
      ],
      "execution_count": null,
      "outputs": []
    },
    {
      "cell_type": "markdown",
      "metadata": {
        "id": "Ap3FDazJryDm",
        "colab_type": "text"
      },
      "source": [
        "### Örnek 1: Bir RNN katmanı\n"
      ]
    },
    {
      "cell_type": "code",
      "metadata": {
        "id": "NVElKmKqd-4x",
        "colab_type": "code",
        "colab": {
          "base_uri": "https://localhost:8080/",
          "height": 221
        },
        "outputId": "0f77878d-15fb-4cd5-cc78-a04f71c60c07"
      },
      "source": [
        "model = Sequential()\n",
        "model.add(Embedding(1000, 32))\n",
        "model.add(SimpleRNN(32))\n",
        "model.summary()"
      ],
      "execution_count": null,
      "outputs": [
        {
          "output_type": "stream",
          "text": [
            "Model: \"sequential_1\"\n",
            "_________________________________________________________________\n",
            "Layer (type)                 Output Shape              Param #   \n",
            "=================================================================\n",
            "embedding_1 (Embedding)      (None, None, 32)          32000     \n",
            "_________________________________________________________________\n",
            "simple_rnn_1 (SimpleRNN)     (None, 32)                2080      \n",
            "=================================================================\n",
            "Total params: 34,080\n",
            "Trainable params: 34,080\n",
            "Non-trainable params: 0\n",
            "_________________________________________________________________\n"
          ],
          "name": "stdout"
        }
      ]
    },
    {
      "cell_type": "markdown",
      "metadata": {
        "id": "DmBZRSpCr1rb",
        "colab_type": "text"
      },
      "source": [
        "### Örnek 2: Boyutlandırılmış RNN katmanı"
      ]
    },
    {
      "cell_type": "code",
      "metadata": {
        "id": "H6veqpiKeMmx",
        "colab_type": "code",
        "colab": {
          "base_uri": "https://localhost:8080/",
          "height": 221
        },
        "outputId": "de55b667-7d9f-4c58-a4dd-10d6c861713a"
      },
      "source": [
        "model = Sequential()\n",
        "model.add(Embedding(1000, 32))\n",
        "model.add(SimpleRNN(32, return_sequences=True))\n",
        "model.summary()"
      ],
      "execution_count": null,
      "outputs": [
        {
          "output_type": "stream",
          "text": [
            "Model: \"sequential_2\"\n",
            "_________________________________________________________________\n",
            "Layer (type)                 Output Shape              Param #   \n",
            "=================================================================\n",
            "embedding_2 (Embedding)      (None, None, 32)          32000     \n",
            "_________________________________________________________________\n",
            "simple_rnn_2 (SimpleRNN)     (None, None, 32)          2080      \n",
            "=================================================================\n",
            "Total params: 34,080\n",
            "Trainable params: 34,080\n",
            "Non-trainable params: 0\n",
            "_________________________________________________________________\n"
          ],
          "name": "stdout"
        }
      ]
    },
    {
      "cell_type": "markdown",
      "metadata": {
        "id": "z2V2n3RQr39C",
        "colab_type": "text"
      },
      "source": [
        "### Örnek 3: Ardışık RNN katmanları"
      ]
    },
    {
      "cell_type": "code",
      "metadata": {
        "id": "nrXqlpMHeY99",
        "colab_type": "code",
        "colab": {
          "base_uri": "https://localhost:8080/",
          "height": 323
        },
        "outputId": "4cee153f-7c0c-4e3d-9c14-d8685a8927dc"
      },
      "source": [
        "model = Sequential()\n",
        "model.add(Embedding(1000, 32))\n",
        "model.add(SimpleRNN(32, return_sequences=True))\n",
        "model.add(SimpleRNN(32, return_sequences=True))\n",
        "model.add(SimpleRNN(32, return_sequences=True))\n",
        "model.add(SimpleRNN(32))\n",
        "model.summary()"
      ],
      "execution_count": null,
      "outputs": [
        {
          "output_type": "stream",
          "text": [
            "Model: \"sequential_3\"\n",
            "_________________________________________________________________\n",
            "Layer (type)                 Output Shape              Param #   \n",
            "=================================================================\n",
            "embedding_3 (Embedding)      (None, None, 32)          32000     \n",
            "_________________________________________________________________\n",
            "simple_rnn_3 (SimpleRNN)     (None, None, 32)          2080      \n",
            "_________________________________________________________________\n",
            "simple_rnn_4 (SimpleRNN)     (None, None, 32)          2080      \n",
            "_________________________________________________________________\n",
            "simple_rnn_5 (SimpleRNN)     (None, None, 32)          2080      \n",
            "_________________________________________________________________\n",
            "simple_rnn_6 (SimpleRNN)     (None, 32)                2080      \n",
            "=================================================================\n",
            "Total params: 40,320\n",
            "Trainable params: 40,320\n",
            "Non-trainable params: 0\n",
            "_________________________________________________________________\n"
          ],
          "name": "stdout"
        }
      ]
    },
    {
      "cell_type": "markdown",
      "metadata": {
        "id": "kiNCJrR-rlWb",
        "colab_type": "text"
      },
      "source": [
        " # IMDB VERİ KÜMESİNİ HAZIRLAMAK\n",
        " IMDB: Internet Movie Database (Internet Film Veritabanı)"
      ]
    },
    {
      "cell_type": "code",
      "metadata": {
        "id": "c3DwOuype26m",
        "colab_type": "code",
        "colab": {}
      },
      "source": [
        "from keras.datasets import imdb\n",
        "from keras.preprocessing import sequence"
      ],
      "execution_count": null,
      "outputs": []
    },
    {
      "cell_type": "code",
      "metadata": {
        "id": "LtlL7WC-frKS",
        "colab_type": "code",
        "colab": {}
      },
      "source": [
        "num_features = 1000\n",
        "maxlen = 500\n",
        "batch_size = 32"
      ],
      "execution_count": null,
      "outputs": []
    },
    {
      "cell_type": "code",
      "metadata": {
        "id": "zexk3Cu0f-Cn",
        "colab_type": "code",
        "colab": {
          "base_uri": "https://localhost:8080/",
          "height": 68
        },
        "outputId": "433cb0d2-b08a-4b2f-fc6b-3c4214f26294"
      },
      "source": [
        "print('Load data..')\n",
        "(input_train, y_train), (input_test, y_test) = imdb.load_data(num_words = num_features)\n",
        "\n",
        "\n",
        "\n",
        "print(len(input_train), 'Eğitim dizisi', input_train.shape)\n",
        "print(len(input_test), 'test dizisi', input_test.shape)"
      ],
      "execution_count": null,
      "outputs": [
        {
          "output_type": "stream",
          "text": [
            "Load data..\n",
            "25000 Eğitim dizisi (25000,)\n",
            "25000 test dizisi (25000,)\n"
          ],
          "name": "stdout"
        }
      ]
    },
    {
      "cell_type": "code",
      "metadata": {
        "id": "kJRDWrO7gfHl",
        "colab_type": "code",
        "colab": {
          "base_uri": "https://localhost:8080/",
          "height": 68
        },
        "outputId": "cf5efdf5-71c8-4e84-df0e-ee29506f309a"
      },
      "source": [
        "print('Pad sequnce (sample x train)')\n",
        "\n",
        "input_train = sequence.pad_sequences(input_train, maxlen=maxlen)\n",
        "input_test = sequence.pad_sequences(input_test, maxlen=maxlen)\n",
        "\n",
        "\n",
        "print(len(input_train), 'Eğitim dizisi', input_train.shape)\n",
        "print(len(input_test), 'test dizisi', input_test.shape)"
      ],
      "execution_count": null,
      "outputs": [
        {
          "output_type": "stream",
          "text": [
            "Pad sequnce (sample x train)\n",
            "25000 Eğitim dizisi (25000, 500)\n",
            "25000 test dizisi (25000, 500)\n"
          ],
          "name": "stdout"
        }
      ]
    },
    {
      "cell_type": "markdown",
      "metadata": {
        "id": "lvzffmM_rVsA",
        "colab_type": "text"
      },
      "source": [
        "### EMBEDDING ve SimpleRNN Katmanlarının Eğitilmesi"
      ]
    },
    {
      "cell_type": "code",
      "metadata": {
        "id": "CJMUIDnEhEiJ",
        "colab_type": "code",
        "colab": {}
      },
      "source": [
        "from keras.layers import Dense\n",
        "from keras import layers"
      ],
      "execution_count": null,
      "outputs": []
    },
    {
      "cell_type": "markdown",
      "metadata": {
        "id": "zsgoC2VwqUwl",
        "colab_type": "text"
      },
      "source": [
        "### Basit RNN ile Modelleme"
      ]
    },
    {
      "cell_type": "code",
      "metadata": {
        "id": "UEcSDRazhWeB",
        "colab_type": "code",
        "colab": {
          "base_uri": "https://localhost:8080/",
          "height": 255
        },
        "outputId": "8fdddd99-3354-441b-8897-26311e587ce8"
      },
      "source": [
        "model = Sequential()\n",
        "model.add(Embedding(num_features, 32))\n",
        "model.add(SimpleRNN(32))\n",
        "model.add(Dense(1, activation='sigmoid'))\n",
        "model.summary()"
      ],
      "execution_count": null,
      "outputs": [
        {
          "output_type": "stream",
          "text": [
            "Model: \"sequential_8\"\n",
            "_________________________________________________________________\n",
            "Layer (type)                 Output Shape              Param #   \n",
            "=================================================================\n",
            "embedding_8 (Embedding)      (None, None, 32)          32000     \n",
            "_________________________________________________________________\n",
            "simple_rnn_10 (SimpleRNN)    (None, 32)                2080      \n",
            "_________________________________________________________________\n",
            "dense_5 (Dense)              (None, 1)                 33        \n",
            "=================================================================\n",
            "Total params: 34,113\n",
            "Trainable params: 34,113\n",
            "Non-trainable params: 0\n",
            "_________________________________________________________________\n"
          ],
          "name": "stdout"
        }
      ]
    },
    {
      "cell_type": "markdown",
      "metadata": {
        "id": "z6GiCcMMqbZv",
        "colab_type": "text"
      },
      "source": [
        "### Basit bir LSTM ile Modelleme"
      ]
    },
    {
      "cell_type": "code",
      "metadata": {
        "id": "QYV69OagqlJ2",
        "colab_type": "code",
        "colab": {
          "base_uri": "https://localhost:8080/",
          "height": 255
        },
        "outputId": "daf43850-6193-47a3-c06c-4ba06307361c"
      },
      "source": [
        "model = Sequential()\n",
        "model.add(layers.Embedding(num_features, 32))\n",
        "model.add(layers.Bidirectional(layers.LSTM(32)))\n",
        "model.add(Dense(1, activation='sigmoid'))\n",
        "model.summary()"
      ],
      "execution_count": null,
      "outputs": [
        {
          "output_type": "stream",
          "text": [
            "Model: \"sequential_9\"\n",
            "_________________________________________________________________\n",
            "Layer (type)                 Output Shape              Param #   \n",
            "=================================================================\n",
            "embedding_9 (Embedding)      (None, None, 32)          32000     \n",
            "_________________________________________________________________\n",
            "bidirectional_2 (Bidirection (None, 64)                16640     \n",
            "_________________________________________________________________\n",
            "dense_6 (Dense)              (None, 1)                 65        \n",
            "=================================================================\n",
            "Total params: 48,705\n",
            "Trainable params: 48,705\n",
            "Non-trainable params: 0\n",
            "_________________________________________________________________\n"
          ],
          "name": "stdout"
        }
      ]
    },
    {
      "cell_type": "markdown",
      "metadata": {
        "id": "BV4D-F-yqixI",
        "colab_type": "text"
      },
      "source": [
        "# Modelin derlenmesi RNN"
      ]
    },
    {
      "cell_type": "code",
      "metadata": {
        "id": "Q9SDtQcQxLpa",
        "colab_type": "code",
        "colab": {
          "base_uri": "https://localhost:8080/",
          "height": 428
        },
        "outputId": "b5b87cd1-fc3a-4e4f-9bd1-b966531f831a"
      },
      "source": [
        "model.compile(optimizer='rmsprop', loss='binary_crossentropy', metrics=['acc'])\n",
        "\n",
        "history = model.fit(input_train, y_train,\n",
        "                    epochs = 10,\n",
        "                    batch_size = 128,\n",
        "                    validation_split=0.2)"
      ],
      "execution_count": null,
      "outputs": [
        {
          "output_type": "stream",
          "text": [
            "/usr/local/lib/python3.6/dist-packages/tensorflow/python/framework/indexed_slices.py:434: UserWarning: Converting sparse IndexedSlices to a dense Tensor of unknown shape. This may consume a large amount of memory.\n",
            "  \"Converting sparse IndexedSlices to a dense Tensor of unknown shape. \"\n"
          ],
          "name": "stderr"
        },
        {
          "output_type": "stream",
          "text": [
            "Train on 20000 samples, validate on 5000 samples\n",
            "Epoch 1/10\n",
            "20000/20000 [==============================] - 24s 1ms/step - loss: 0.6351 - acc: 0.6270 - val_loss: 0.4802 - val_acc: 0.7964\n",
            "Epoch 2/10\n",
            "20000/20000 [==============================] - 22s 1ms/step - loss: 0.4656 - acc: 0.7868 - val_loss: 0.4428 - val_acc: 0.8026\n",
            "Epoch 3/10\n",
            "20000/20000 [==============================] - 22s 1ms/step - loss: 0.4076 - acc: 0.8216 - val_loss: 0.4611 - val_acc: 0.7844\n",
            "Epoch 4/10\n",
            "20000/20000 [==============================] - 22s 1ms/step - loss: 0.3842 - acc: 0.8343 - val_loss: 0.4037 - val_acc: 0.8334\n",
            "Epoch 5/10\n",
            "20000/20000 [==============================] - 22s 1ms/step - loss: 0.3466 - acc: 0.8551 - val_loss: 0.4190 - val_acc: 0.8312\n",
            "Epoch 6/10\n",
            "20000/20000 [==============================] - 22s 1ms/step - loss: 0.3319 - acc: 0.8617 - val_loss: 0.5270 - val_acc: 0.7866\n",
            "Epoch 7/10\n",
            "20000/20000 [==============================] - 22s 1ms/step - loss: 0.2962 - acc: 0.8800 - val_loss: 0.4190 - val_acc: 0.8380\n",
            "Epoch 8/10\n",
            "20000/20000 [==============================] - 22s 1ms/step - loss: 0.2708 - acc: 0.8920 - val_loss: 0.4656 - val_acc: 0.7988\n",
            "Epoch 9/10\n",
            "20000/20000 [==============================] - 22s 1ms/step - loss: 0.2500 - acc: 0.9003 - val_loss: 0.6223 - val_acc: 0.7116\n",
            "Epoch 10/10\n",
            "20000/20000 [==============================] - 22s 1ms/step - loss: 0.2281 - acc: 0.9144 - val_loss: 0.6796 - val_acc: 0.7076\n"
          ],
          "name": "stdout"
        }
      ]
    },
    {
      "cell_type": "markdown",
      "metadata": {
        "id": "6HVM06mAq24u",
        "colab_type": "text"
      },
      "source": [
        "## Modelin Derlenmesi LSTM"
      ]
    },
    {
      "cell_type": "code",
      "metadata": {
        "id": "m2wKWEbjhr5s",
        "colab_type": "code",
        "colab": {
          "base_uri": "https://localhost:8080/",
          "height": 428
        },
        "outputId": "8ec82345-d682-4fce-93f6-c22b2436028b"
      },
      "source": [
        "model.compile(optimizer='rmsprop', loss='binary_crossentropy', metrics=['acc'])\n",
        "\n",
        "history = model.fit(input_train, y_train,\n",
        "                    epochs = 10,\n",
        "                    batch_size = 128,\n",
        "                    validation_split=0.2)"
      ],
      "execution_count": null,
      "outputs": [
        {
          "output_type": "stream",
          "text": [
            "/usr/local/lib/python3.6/dist-packages/tensorflow/python/framework/indexed_slices.py:434: UserWarning: Converting sparse IndexedSlices to a dense Tensor of unknown shape. This may consume a large amount of memory.\n",
            "  \"Converting sparse IndexedSlices to a dense Tensor of unknown shape. \"\n"
          ],
          "name": "stderr"
        },
        {
          "output_type": "stream",
          "text": [
            "Train on 20000 samples, validate on 5000 samples\n",
            "Epoch 1/10\n",
            "20000/20000 [==============================] - 122s 6ms/step - loss: 0.5584 - acc: 0.7179 - val_loss: 0.4663 - val_acc: 0.7698\n",
            "Epoch 2/10\n",
            "20000/20000 [==============================] - 121s 6ms/step - loss: 0.4080 - acc: 0.8266 - val_loss: 0.3866 - val_acc: 0.8360\n",
            "Epoch 3/10\n",
            "20000/20000 [==============================] - 121s 6ms/step - loss: 0.3701 - acc: 0.8432 - val_loss: 0.3754 - val_acc: 0.8366\n",
            "Epoch 4/10\n",
            "20000/20000 [==============================] - 122s 6ms/step - loss: 0.3505 - acc: 0.8540 - val_loss: 0.3836 - val_acc: 0.8318\n",
            "Epoch 5/10\n",
            "20000/20000 [==============================] - 121s 6ms/step - loss: 0.3377 - acc: 0.8616 - val_loss: 0.4391 - val_acc: 0.8308\n",
            "Epoch 6/10\n",
            "20000/20000 [==============================] - 122s 6ms/step - loss: 0.3312 - acc: 0.8666 - val_loss: 0.3413 - val_acc: 0.8582\n",
            "Epoch 7/10\n",
            "20000/20000 [==============================] - 121s 6ms/step - loss: 0.3226 - acc: 0.8665 - val_loss: 0.3890 - val_acc: 0.8502\n",
            "Epoch 8/10\n",
            "20000/20000 [==============================] - 121s 6ms/step - loss: 0.3132 - acc: 0.8712 - val_loss: 0.3450 - val_acc: 0.8584\n",
            "Epoch 9/10\n",
            "20000/20000 [==============================] - 121s 6ms/step - loss: 0.3082 - acc: 0.8728 - val_loss: 0.3278 - val_acc: 0.8610\n",
            "Epoch 10/10\n",
            "20000/20000 [==============================] - 121s 6ms/step - loss: 0.3080 - acc: 0.8749 - val_loss: 0.3453 - val_acc: 0.8578\n"
          ],
          "name": "stdout"
        }
      ]
    },
    {
      "cell_type": "markdown",
      "metadata": {
        "id": "UIXfWW26rOX3",
        "colab_type": "text"
      },
      "source": [
        "### SONUÇLARIN ÇİZDİRİLMESİ"
      ]
    },
    {
      "cell_type": "code",
      "metadata": {
        "id": "5-jQz6aonnp-",
        "colab_type": "code",
        "colab": {}
      },
      "source": [
        "import matplotlib.pyplot as plt\n"
      ],
      "execution_count": null,
      "outputs": []
    },
    {
      "cell_type": "code",
      "metadata": {
        "id": "H0AF6DlppaT1",
        "colab_type": "code",
        "colab": {}
      },
      "source": [
        "acc = history.history['acc']\n",
        "val_acc = history.history['val_acc']\n",
        "loss = history.history['loss']\n",
        "val_loss = history.history['val_loss']"
      ],
      "execution_count": null,
      "outputs": []
    },
    {
      "cell_type": "code",
      "metadata": {
        "id": "2Q6UkfW57pxo",
        "colab_type": "code",
        "colab": {}
      },
      "source": [
        "epochs = range(1, len(acc) + 1)"
      ],
      "execution_count": null,
      "outputs": []
    },
    {
      "cell_type": "code",
      "metadata": {
        "id": "VupdcMHgpxaa",
        "colab_type": "code",
        "colab": {
          "base_uri": "https://localhost:8080/",
          "height": 545
        },
        "outputId": "6a9824d9-c3ab-409a-a23c-ff662b172840"
      },
      "source": [
        "plt.plot(epochs, acc, 'm*-', label= 'Eğitim Başarımı')\n",
        "plt.plot(epochs, val_acc, 'g*-', label= 'Doğrulama / Geçerleme Başarımı')\n",
        "plt.title('Eğitim ve Doğrulama için Başarım')\n",
        "plt. legend()\n",
        "\n",
        "plt.figure()\n",
        "\n",
        "plt.plot(epochs, loss, 'm*-', label= 'Eğitim Kaybı')\n",
        "plt.plot(epochs, val_loss, 'g*-', label= 'Doğrulama / Geçerleme Kaybı')\n",
        "plt.title('Eğitim ve Doğrulama için Kayıp')\n",
        "plt. legend()\n",
        "\n",
        "plt.show()"
      ],
      "execution_count": null,
      "outputs": [
        {
          "output_type": "display_data",
          "data": {
            "image/png": "[encoded data removed]",
            "text/plain": [
              "<Figure size 432x288 with 1 Axes>"
            ]
          },
          "metadata": {
            "tags": [],
            "needs_background": "light"
          }
        },
        {
          "output_type": "display_data",
          "data": {
            "image/png": "[encoded data removed]",
            "text/plain": [
              "<Figure size 432x288 with 1 Axes>"
            ]
          },
          "metadata": {
            "tags": [],
            "needs_background": "light"
          }
        }
      ]
    },
    {
      "cell_type": "code",
      "metadata": {
        "id": "kLTp7kpyp215",
        "colab_type": "code",
        "colab": {
          "base_uri": "https://localhost:8080/",
          "height": 34
        },
        "outputId": "46582ab9-3d89-4dde-c109-ca63cdda895a"
      },
      "source": [
        "print(acc, 'eğitim başarımları')"
      ],
      "execution_count": null,
      "outputs": [
        {
          "output_type": "stream",
          "text": [
            "[0.627, 0.78685, 0.8216, 0.8343, 0.85515, 0.8617, 0.88, 0.89195, 0.9003, 0.91445] eğitim başarımları\n"
          ],
          "name": "stdout"
        }
      ]
    },
    {
      "cell_type": "code",
      "metadata": {
        "id": "1GSzUHLOqat7",
        "colab_type": "code",
        "colab": {}
      },
      "source": [
        "acc = history.history['acc']\n",
        "val_acc = history.history['val_acc']\n",
        "loss = history.history['loss']\n",
        "val_loss = history.history['val_loss']"
      ],
      "execution_count": null,
      "outputs": []
    },
    {
      "cell_type": "code",
      "metadata": {
        "id": "UdxkDeZlv3E5",
        "colab_type": "code",
        "colab": {}
      },
      "source": [
        "epochs = range(1, len(acc) + 1)"
      ],
      "execution_count": null,
      "outputs": []
    },
    {
      "cell_type": "code",
      "metadata": {
        "id": "rrN2yrjIv6PP",
        "colab_type": "code",
        "colab": {
          "base_uri": "https://localhost:8080/",
          "height": 545
        },
        "outputId": "bfe1d7d1-3f8a-49f9-9b91-507e51c69ce7"
      },
      "source": [
        "plt.plot(epochs, acc, 'm*-', label= 'Eğitim Başarımı')\n",
        "plt.plot(epochs, val_acc, 'g*-', label= 'Doğrulama / Geçerleme Başarımı')\n",
        "plt.title('Eğitim ve Doğrulama için Başarım')\n",
        "plt. legend()\n",
        "\n",
        "plt.figure()\n",
        "\n",
        "plt.plot(epochs, loss, 'm*-', label= 'Eğitim Kaybı')\n",
        "plt.plot(epochs, val_loss, 'g*-', label= 'Doğrulama / Geçerleme Kaybı')\n",
        "plt.title('Eğitim ve Doğrulama için Kayıp')\n",
        "plt. legend()\n",
        "\n",
        "plt.show()"
      ],
      "execution_count": null,
      "outputs": [
        {
          "output_type": "display_data",
          "data": {
            "image/png": "[encoded data removed]",
            "text/plain": [
              "<Figure size 432x288 with 1 Axes>"
            ]
          },
          "metadata": {
            "tags": [],
            "needs_background": "light"
          }
        },
        {
          "output_type": "display_data",
          "data": {
            "image/png": "[encoded data removed]",
            "text/plain": [
              "<Figure size 432x288 with 1 Axes>"
            ]
          },
          "metadata": {
            "tags": [],
            "needs_background": "light"
          }
        }
      ]
    },
    {
      "cell_type": "code",
      "metadata": {
        "id": "4Yh4CA8dv7XH",
        "colab_type": "code",
        "colab": {}
      },
      "source": [
        ""
      ],
      "execution_count": null,
      "outputs": []
    }
  ]
}