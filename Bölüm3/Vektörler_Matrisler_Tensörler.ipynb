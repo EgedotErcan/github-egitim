{
  "nbformat": 4,
  "nbformat_minor": 0,
  "metadata": {
    "colab": {
      "name": "Vektörler / Matrisler / Tensörler.ipynb",
      "provenance": [],
      "collapsed_sections": [],
      "toc_visible": true
    },
    "kernelspec": {
      "name": "python3",
      "display_name": "Python 3"
    }
  },
  "cells": [
    {
      "cell_type": "markdown",
      "metadata": {
        "id": "WgR2o2e_dtjm",
        "colab_type": "text"
      },
      "source": [
        "# Vektörler / Matrsiler / Tensörler\n",
        "\n",
        "---\n",
        "\n",
        "Derin öğrenme için gerekli olan temel matematik bilgisi içinde lineer cebir (linear algebra) \n",
        "\n"
      ]
    },
    {
      "cell_type": "markdown",
      "metadata": {
        "id": "Li8vvRb-5CGw",
        "colab_type": "text"
      },
      "source": [
        "![](https://res.cloudinary.com/practicaldev/image/fetch/s--oTgfo1EL--/c_limit%2Cf_auto%2Cfl_progressive%2Cq_auto%2Cw_880/https://raw.githubusercontent.com/adhiraiyan/DeepLearningWithTF2.0/master/notebooks/figures/fig0201a.png)"
      ]
    },
    {
      "cell_type": "markdown",
      "metadata": {
        "id": "QZ2Te_3zixej",
        "colab_type": "text"
      },
      "source": [
        "## VEKTÖRLER"
      ]
    },
    {
      "cell_type": "code",
      "metadata": {
        "id": "OxRqxIn-iVqt",
        "colab_type": "code",
        "colab": {
          "base_uri": "https://localhost:8080/",
          "height": 34
        },
        "outputId": "97221c7d-8816-4676-a2be-c41539273f21"
      },
      "source": [
        "import numpy as np\n",
        "\n",
        "a = np.array(18) #skaler değer 0 boyutlu tensordür\n",
        "a"
      ],
      "execution_count": null,
      "outputs": [
        {
          "output_type": "execute_result",
          "data": {
            "text/plain": [
              "array(18)"
            ]
          },
          "metadata": {
            "tags": []
          },
          "execution_count": 6
        }
      ]
    },
    {
      "cell_type": "code",
      "metadata": {
        "id": "4GZTUCpIihi7",
        "colab_type": "code",
        "colab": {
          "base_uri": "https://localhost:8080/",
          "height": 34
        },
        "outputId": "e2435076-77b2-4171-94cf-91ec40559799"
      },
      "source": [
        "a.ndim #skaler 0 eksen"
      ],
      "execution_count": null,
      "outputs": [
        {
          "output_type": "execute_result",
          "data": {
            "text/plain": [
              "0"
            ]
          },
          "metadata": {
            "tags": []
          },
          "execution_count": 7
        }
      ]
    },
    {
      "cell_type": "code",
      "metadata": {
        "id": "K2eJTaEPijSy",
        "colab_type": "code",
        "colab": {
          "base_uri": "https://localhost:8080/",
          "height": 34
        },
        "outputId": "556214f5-5a17-41c0-ae0c-33dcda838961"
      },
      "source": [
        "a = np.array([18, 6, 2, 16, 8]) # vektör 1 Boyutlu vektör\n",
        "a.ndim "
      ],
      "execution_count": null,
      "outputs": [
        {
          "output_type": "execute_result",
          "data": {
            "text/plain": [
              "1"
            ]
          },
          "metadata": {
            "tags": []
          },
          "execution_count": 8
        }
      ]
    },
    {
      "cell_type": "markdown",
      "metadata": {
        "id": "JvZ7r4dai6xo",
        "colab_type": "text"
      },
      "source": [
        "# MATRİSLER"
      ]
    },
    {
      "cell_type": "code",
      "metadata": {
        "id": "Mn7JGYS4ivFK",
        "colab_type": "code",
        "colab": {}
      },
      "source": [
        "a = np.array([[33, 87, 21, 10, 7],\n",
        "             [30, 89, 7, 4, 3],\n",
        "             [27, 93, 14, 7, 1]]) #Matris 2 boyutlu tensördür"
      ],
      "execution_count": null,
      "outputs": []
    },
    {
      "cell_type": "code",
      "metadata": {
        "id": "kDCtxwAGjc-z",
        "colab_type": "code",
        "colab": {
          "base_uri": "https://localhost:8080/",
          "height": 34
        },
        "outputId": "c4a40b95-2b36-4d83-b596-e5f2dc0a2128"
      },
      "source": [
        "a.ndim"
      ],
      "execution_count": null,
      "outputs": [
        {
          "output_type": "execute_result",
          "data": {
            "text/plain": [
              "2"
            ]
          },
          "metadata": {
            "tags": []
          },
          "execution_count": 10
        }
      ]
    },
    {
      "cell_type": "markdown",
      "metadata": {
        "id": "KyMMw3_VjfOh",
        "colab_type": "text"
      },
      "source": [
        "## TENSORLER"
      ]
    },
    {
      "cell_type": "code",
      "metadata": {
        "id": "dvtymlijjiRJ",
        "colab_type": "code",
        "colab": {}
      },
      "source": [
        "a = np.array([[[33, 87, 21, 10, 7], \n",
        "               [30, 89, 7, 4, 3], \n",
        "               [27, 93, 14, 7, 1]], \n",
        "              [[33, 87, 21, 10, 7], \n",
        "               [30, 89, 7, 4, 3], \n",
        "               [27, 93, 14, 7, 1]], \n",
        "              [[33, 87, 21, 10, 7], \n",
        "               [30, 89, 7, 4, 3], \n",
        "               [27, 93, 14, 7, 1]]]) "
      ],
      "execution_count": null,
      "outputs": []
    },
    {
      "cell_type": "code",
      "metadata": {
        "id": "tTzkvr7-kIS4",
        "colab_type": "code",
        "colab": {
          "base_uri": "https://localhost:8080/",
          "height": 34
        },
        "outputId": "79f11a60-fea5-46cd-e63b-5a632a8ccc7d"
      },
      "source": [
        "a.ndim #3 boyutlu tensör"
      ],
      "execution_count": null,
      "outputs": [
        {
          "output_type": "execute_result",
          "data": {
            "text/plain": [
              "3"
            ]
          },
          "metadata": {
            "tags": []
          },
          "execution_count": 12
        }
      ]
    },
    {
      "cell_type": "markdown",
      "metadata": {
        "id": "4Q3SuplilJz5",
        "colab_type": "text"
      },
      "source": [
        "### Görüntü verisinden örnek gösterim"
      ]
    },
    {
      "cell_type": "code",
      "metadata": {
        "id": "1L12oSxgkMdo",
        "colab_type": "code",
        "colab": {
          "base_uri": "https://localhost:8080/",
          "height": 68
        },
        "outputId": "33ddd704-9f57-4bb7-b595-857fd17f3ecf"
      },
      "source": [
        "from keras.datasets import mnist\n",
        "(train_images, train_labels), (test_labels) = mnist.load_data()"
      ],
      "execution_count": null,
      "outputs": [
        {
          "output_type": "stream",
          "text": [
            "Using TensorFlow backend.\n"
          ],
          "name": "stderr"
        },
        {
          "output_type": "stream",
          "text": [
            "Downloading data from https://s3.amazonaws.com/img-datasets/mnist.npz\n",
            "11493376/11490434 [==============================] - 0s 0us/step\n"
          ],
          "name": "stdout"
        }
      ]
    },
    {
      "cell_type": "code",
      "metadata": {
        "id": "ezrm_vEwk1tn",
        "colab_type": "code",
        "colab": {
          "base_uri": "https://localhost:8080/",
          "height": 34
        },
        "outputId": "918b9fdb-7846-4499-8697-c257f63db77c"
      },
      "source": [
        "print(train_images.ndim)"
      ],
      "execution_count": null,
      "outputs": [
        {
          "output_type": "stream",
          "text": [
            "3\n"
          ],
          "name": "stdout"
        }
      ]
    },
    {
      "cell_type": "code",
      "metadata": {
        "id": "t-wCsxjUk9we",
        "colab_type": "code",
        "colab": {
          "base_uri": "https://localhost:8080/",
          "height": 34
        },
        "outputId": "0dbf8bd8-8791-430c-c6ba-b0e2bae22c1d"
      },
      "source": [
        "print(train_images.shape)"
      ],
      "execution_count": null,
      "outputs": [
        {
          "output_type": "stream",
          "text": [
            "(60000, 28, 28)\n"
          ],
          "name": "stdout"
        }
      ]
    },
    {
      "cell_type": "code",
      "metadata": {
        "id": "vphBm4ISlDUb",
        "colab_type": "code",
        "colab": {
          "base_uri": "https://localhost:8080/",
          "height": 34
        },
        "outputId": "7bef3274-fbcf-42db-f7c4-d42b4c88dd9a"
      },
      "source": [
        "print(train_images.dtype)"
      ],
      "execution_count": null,
      "outputs": [
        {
          "output_type": "stream",
          "text": [
            "uint8\n"
          ],
          "name": "stdout"
        }
      ]
    },
    {
      "cell_type": "code",
      "metadata": {
        "id": "zsjHA8khlOSl",
        "colab_type": "code",
        "colab": {}
      },
      "source": [
        "digit = train_images[7] #Veri kümesinden bir örnek gösterim"
      ],
      "execution_count": null,
      "outputs": []
    },
    {
      "cell_type": "code",
      "metadata": {
        "id": "5LFrWdCjlUqz",
        "colab_type": "code",
        "colab": {
          "base_uri": "https://localhost:8080/",
          "height": 282
        },
        "outputId": "ccbd16e8-7471-4923-9db7-0107ddb0a377"
      },
      "source": [
        "import matplotlib.pyplot as plt\n",
        "plt.imshow(digit)\n",
        "plt.show"
      ],
      "execution_count": null,
      "outputs": [
        {
          "output_type": "execute_result",
          "data": {
            "text/plain": [
              "<function matplotlib.pyplot.show>"
            ]
          },
          "metadata": {
            "tags": []
          },
          "execution_count": 18
        },
        {
          "output_type": "display_data",
          "data": {
            "image/png": "[encoded data removed]",
            "text/plain": [
              "<Figure size 432x288 with 1 Axes>"
            ]
          },
          "metadata": {
            "tags": [],
            "needs_background": "light"
          }
        }
      ]
    },
    {
      "cell_type": "code",
      "metadata": {
        "id": "51YzW9Ejlh5X",
        "colab_type": "code",
        "colab": {}
      },
      "source": [
        "dizinim = train_images[7:77] # 7 ile 77 arasındaki örnekleri seçip bir dizine yazar"
      ],
      "execution_count": null,
      "outputs": []
    },
    {
      "cell_type": "code",
      "metadata": {
        "id": "Vdzyr_hglnwo",
        "colab_type": "code",
        "colab": {
          "base_uri": "https://localhost:8080/",
          "height": 34
        },
        "outputId": "d931ce02-e3c5-404e-d42c-acdb217c518a"
      },
      "source": [
        "print(dizinim.shape)"
      ],
      "execution_count": null,
      "outputs": [
        {
          "output_type": "stream",
          "text": [
            "(70, 28, 28)\n"
          ],
          "name": "stdout"
        }
      ]
    },
    {
      "cell_type": "code",
      "metadata": {
        "id": "nMUmKLT3lrHE",
        "colab_type": "code",
        "colab": {
          "base_uri": "https://localhost:8080/",
          "height": 34
        },
        "outputId": "5ff8eba2-b91e-4f88-9209-6e0ed2518bf6"
      },
      "source": [
        "dizinim = train_images[7:77, :, :]\n",
        "dizinim.shape"
      ],
      "execution_count": null,
      "outputs": [
        {
          "output_type": "execute_result",
          "data": {
            "text/plain": [
              "(70, 28, 28)"
            ]
          },
          "metadata": {
            "tags": []
          },
          "execution_count": 21
        }
      ]
    },
    {
      "cell_type": "markdown",
      "metadata": {
        "id": "lAjuq9h2mdZ1",
        "colab_type": "text"
      },
      "source": [
        "## İŞLEMLER: \n",
        "* Eleman Temelli\n",
        "\n",
        "Bu işlemler tensörün her elemanına ayrı ayrı uygulanır. \n"
      ]
    },
    {
      "cell_type": "code",
      "metadata": {
        "id": "1VXixwSwmxoi",
        "colab_type": "code",
        "colab": {}
      },
      "source": [
        "def naive_relu(x): #relu işlemi\n",
        "  assert len(x.shape) == 2 # x'de 2 boyutlu bir numpy dizisi tanımlanır\n",
        "\n",
        "  x = x.copy() # girdi tensörünün üzerine yazma işlemi için bu fonksiyon kullanılır.\n",
        "  for i in range(x.shape[0]):\n",
        "    for j in range(x.shape[1]):\n",
        "      x[i, j] = max(x[i, j], 0)\n",
        "\n",
        "  return x"
      ],
      "execution_count": null,
      "outputs": []
    },
    {
      "cell_type": "code",
      "metadata": {
        "id": "mNHjhR4Mgjiw",
        "colab_type": "code",
        "colab": {
          "base_uri": "https://localhost:8080/",
          "height": 68
        },
        "outputId": "bde8c194-67ce-4a90-e33b-5aa0c4915d1a"
      },
      "source": [
        "x = np.array([[33, 87, 21, 10, 7],\n",
        "             [30, 89, 7, 4, 3],\n",
        "             [27, 93, 14, 7, 1]])\n",
        "z = naive_relu(x)\n",
        "z"
      ],
      "execution_count": null,
      "outputs": [
        {
          "output_type": "execute_result",
          "data": {
            "text/plain": [
              "array([[33, 87,  0, 10,  7],\n",
              "       [30, 89,  7,  4,  3],\n",
              "       [27, 93, 14,  7,  1]])"
            ]
          },
          "metadata": {
            "tags": []
          },
          "execution_count": 51
        }
      ]
    },
    {
      "cell_type": "code",
      "metadata": {
        "id": "oPcxqe0bnRAw",
        "colab_type": "code",
        "colab": {}
      },
      "source": [
        "def naive_add(x, y): #toplama işlemi\n",
        "  assert len(x.shape) == 2\n",
        "  assert x.shape == y.shape\n",
        "\n",
        "  x = x.copy()\n",
        "  for i in range(x.shape[0]):\n",
        "    for j in range(x.shape[1]):\n",
        "      x[i, j] += y[i, j]\n",
        "  return x"
      ],
      "execution_count": null,
      "outputs": []
    },
    {
      "cell_type": "code",
      "metadata": {
        "id": "M7wUYXlwgrDP",
        "colab_type": "code",
        "colab": {
          "base_uri": "https://localhost:8080/",
          "height": 68
        },
        "outputId": "9a97e166-dc19-4d75-d90f-7267f9ed2c26"
      },
      "source": [
        "y = np.array([[33, 87, 21, 10, 7],\n",
        "             [30, 89, 7, 4, 3],\n",
        "             [27, 93, 14, 7, 1]])\n",
        "z = naive_add(x, y)\n",
        "z"
      ],
      "execution_count": null,
      "outputs": [
        {
          "output_type": "execute_result",
          "data": {
            "text/plain": [
              "array([[ 66, 174,  42,  20,  14],\n",
              "       [ 60, 178,  14,   8,   6],\n",
              "       [ 54, 186,  28,  14,   2]])"
            ]
          },
          "metadata": {
            "tags": []
          },
          "execution_count": 47
        }
      ]
    },
    {
      "cell_type": "code",
      "metadata": {
        "id": "sC70-Hshn1Ii",
        "colab_type": "code",
        "colab": {
          "base_uri": "https://localhost:8080/",
          "height": 68
        },
        "outputId": "035fe303-ef40-4f22-ab9a-a77d6871e9e9"
      },
      "source": [
        "import numpy as np # numpy kütüphanesini kullandığınızda bu işlemleri aşağıdaki gibi yapmak mümkün hale geliyor :)\n",
        "x = np.array([[33, 87, 21, 10, 7],\n",
        "             [30, 89, 7, 4, 3],\n",
        "             [27, 93, 14, 7, 1]])\n",
        "\n",
        "y = np.array([[33, 87, 21, 10, 7],\n",
        "             [30, 89, 7, 4, 3],\n",
        "             [27, 93, 14, 7, 1]])\n",
        "\n",
        "z = np.maximum(z, 0.)\n",
        "z"
      ],
      "execution_count": null,
      "outputs": [
        {
          "output_type": "execute_result",
          "data": {
            "text/plain": [
              "array([[ 66., 174.,  42.,  20.,  14.],\n",
              "       [ 60., 178.,  14.,   8.,   6.],\n",
              "       [ 54., 186.,  28.,  14.,   2.]])"
            ]
          },
          "metadata": {
            "tags": []
          },
          "execution_count": 35
        }
      ]
    },
    {
      "cell_type": "code",
      "metadata": {
        "id": "Jz3FvQeuibja",
        "colab_type": "code",
        "colab": {
          "base_uri": "https://localhost:8080/",
          "height": 68
        },
        "outputId": "fa38edc5-e501-477c-eaa0-b831132396e3"
      },
      "source": [
        "z = x + y\n",
        "z"
      ],
      "execution_count": null,
      "outputs": [
        {
          "output_type": "execute_result",
          "data": {
            "text/plain": [
              "array([[ 66, 174,  42,  20,  14],\n",
              "       [ 60, 178,  14,   8,   6],\n",
              "       [ 54, 186,  28,  14,   2]])"
            ]
          },
          "metadata": {
            "tags": []
          },
          "execution_count": 36
        }
      ]
    },
    {
      "cell_type": "markdown",
      "metadata": {
        "id": "1n3z5i2soCgS",
        "colab_type": "text"
      },
      "source": [
        "* Yayma Operasyonu, "
      ]
    },
    {
      "cell_type": "code",
      "metadata": {
        "id": "3L-Ez95xn-jl",
        "colab_type": "code",
        "colab": {}
      },
      "source": [
        "def naive_add_matrix_and_vector(x, y):\n",
        "  assert len(x.shape) == 2\n",
        "  assert len(y.shape) == 1\n",
        "  assert x.shape[1] == y.shape[0]\n",
        "\n",
        "  x = x.copy()\n",
        "  for i in range(x.shape[0]):\n",
        "    for j in range(x.shape[1]):\n",
        "      x[i, j] += y[j]\n",
        "  return x"
      ],
      "execution_count": null,
      "outputs": []
    },
    {
      "cell_type": "code",
      "metadata": {
        "id": "7alAGNNgifU-",
        "colab_type": "code",
        "colab": {
          "base_uri": "https://localhost:8080/",
          "height": 68
        },
        "outputId": "dda8427a-7e39-4fa6-ca49-e23ade5a27ce"
      },
      "source": [
        "y = np.array([18, 6, 2, 16, 8]) \n",
        "z = naive_add_matrix_and_vector(x, y)\n",
        "z"
      ],
      "execution_count": null,
      "outputs": [
        {
          "output_type": "execute_result",
          "data": {
            "text/plain": [
              "array([[51, 93, -1, 26, 15],\n",
              "       [48, 95,  9, 20, 11],\n",
              "       [45, 99, 16, 23,  9]])"
            ]
          },
          "metadata": {
            "tags": []
          },
          "execution_count": 54
        }
      ]
    },
    {
      "cell_type": "code",
      "metadata": {
        "id": "6q8ksLTXo_jG",
        "colab_type": "code",
        "colab": {}
      },
      "source": [
        "import numpy as np\n",
        "\n",
        "x = np.random.random((64, 3, 32, 10))\n",
        "y = np.random.random((32, 10))\n",
        "\n",
        "z = np.maximum(x, y)"
      ],
      "execution_count": null,
      "outputs": []
    },
    {
      "cell_type": "code",
      "metadata": {
        "id": "FQYSiVHSoF7n",
        "colab_type": "code",
        "colab": {
          "base_uri": "https://localhost:8080/",
          "height": 34
        },
        "outputId": "66851e63-19fb-4dba-c45e-4146137b4748"
      },
      "source": [
        "import numpy as np\n",
        "\n",
        "x = np.array([[33, 87, 21, 10, 7],\n",
        "             [30, 89, 7, 4, 3],\n",
        "             [27, 93, 14, 7, 1]])\n",
        "y = np.array([18, 6, 2, 16, 8])\n",
        "\n",
        "z = np.dot(x, y)\n",
        "z"
      ],
      "execution_count": null,
      "outputs": [
        {
          "output_type": "execute_result",
          "data": {
            "text/plain": [
              "array([1374, 1176, 1192])"
            ]
          },
          "metadata": {
            "tags": []
          },
          "execution_count": 59
        }
      ]
    },
    {
      "cell_type": "code",
      "metadata": {
        "id": "ZGgxdWW8pf4i",
        "colab_type": "code",
        "colab": {}
      },
      "source": [
        "def naive_vector_dot(x, y):\n",
        "  assert len(x.shape) == 1\n",
        "  assert len(y.shape) == 1\n",
        "  assert x.shape[0] == y.shape[0]\n",
        "\n",
        "  z = 0.\n",
        "\n",
        "  for i in range(x.shape[0]):\n",
        "    z += x[i] * y[i]\n",
        "\n",
        "  return z"
      ],
      "execution_count": null,
      "outputs": []
    },
    {
      "cell_type": "code",
      "metadata": {
        "id": "GeRBXndrj9cY",
        "colab_type": "code",
        "colab": {
          "base_uri": "https://localhost:8080/",
          "height": 34
        },
        "outputId": "5b1785e2-b20a-452f-dd2a-d6067f56a9b4"
      },
      "source": [
        "x = np.array([18, 6, 2, 16, 8])\n",
        "y = np.array([18, 6, 2, 16, 8])\n",
        "z = naive_vector_dot(x, y)\n",
        "z"
      ],
      "execution_count": null,
      "outputs": [
        {
          "output_type": "execute_result",
          "data": {
            "text/plain": [
              "684.0"
            ]
          },
          "metadata": {
            "tags": []
          },
          "execution_count": 65
        }
      ]
    },
    {
      "cell_type": "code",
      "metadata": {
        "id": "WyQc2hgAqRt5",
        "colab_type": "code",
        "colab": {}
      },
      "source": [
        "def naive_add_matrix_and_vector(x, y):\n",
        "  assert len(x.shape) == 2 \n",
        "  assert len(y.shape) == 1\n",
        "  assert x.shape[1] == y.shape[0]\n",
        "\n",
        "  x = x.copy()\n",
        "  for i in range(x.shape[0]):\n",
        "    for j in range(x.shape[1]):\n",
        "      x[i, j] += y[i]\n",
        "\n",
        "  return x"
      ],
      "execution_count": null,
      "outputs": []
    },
    {
      "cell_type": "code",
      "metadata": {
        "id": "JCKg08l_kIPJ",
        "colab_type": "code",
        "colab": {
          "base_uri": "https://localhost:8080/",
          "height": 68
        },
        "outputId": "6be07a0c-da03-4f27-83e7-2adda372c644"
      },
      "source": [
        "x = np.array([[33, 87, 21, 10, 7],\n",
        "             [30, 89, 7, 4, 3],\n",
        "             [27, 93, 14, 7, 1]])\n",
        "y = np.array([18, 6, 2, 16, 8])\n",
        "\n",
        "\n",
        "z = naive_add_matrix_and_vector(x, y)\n",
        "z"
      ],
      "execution_count": null,
      "outputs": [
        {
          "output_type": "execute_result",
          "data": {
            "text/plain": [
              "array([[ 51, 105,  39,  28,  25],\n",
              "       [ 36,  95,  13,  10,   9],\n",
              "       [ 29,  95,  16,   9,   3]])"
            ]
          },
          "metadata": {
            "tags": []
          },
          "execution_count": 73
        }
      ]
    },
    {
      "cell_type": "code",
      "metadata": {
        "id": "1uBnipAPrYqF",
        "colab_type": "code",
        "colab": {
          "base_uri": "https://localhost:8080/",
          "height": 34
        },
        "outputId": "cfe2f10d-4591-416e-8daf-6b01b32bd328"
      },
      "source": [
        "import numpy as np\n",
        "\n",
        "x = np.random.random((64, 3, 32, 10)) #boyutlu rastgele değerli tensor\n",
        "y= np.random.random((32, 10)) #rastgele değerli tensor\n",
        "\n",
        "z = np.maximum(x, y)\n",
        "z.shape"
      ],
      "execution_count": null,
      "outputs": [
        {
          "output_type": "execute_result",
          "data": {
            "text/plain": [
              "(64, 3, 32, 10)"
            ]
          },
          "metadata": {
            "tags": []
          },
          "execution_count": 1
        }
      ]
    },
    {
      "cell_type": "markdown",
      "metadata": {
        "id": "J14ioZRIoFgD",
        "colab_type": "text"
      },
      "source": [
        "* İç Çarpım,"
      ]
    },
    {
      "cell_type": "code",
      "metadata": {
        "id": "tMXblgwirwbj",
        "colab_type": "code",
        "colab": {
          "base_uri": "https://localhost:8080/",
          "height": 34
        },
        "outputId": "73f131d8-46a3-4978-ab6e-23f6c0c6841c"
      },
      "source": [
        "import numpy as np\n",
        "x = np.array([[33, 87, 21, 10, 7],\n",
        "             [30, 89, 7, 4, 3],\n",
        "             [27, 93, 14, 7, 1]])\n",
        "y = np.array([18, 6, 2, 16, 8])\n",
        "z = np.dot(x, y)\n",
        "z"
      ],
      "execution_count": null,
      "outputs": [
        {
          "output_type": "execute_result",
          "data": {
            "text/plain": [
              "array([1374, 1176, 1192])"
            ]
          },
          "metadata": {
            "tags": []
          },
          "execution_count": 81
        }
      ]
    },
    {
      "cell_type": "code",
      "metadata": {
        "id": "J4Ee_Z2Tr6jG",
        "colab_type": "code",
        "colab": {}
      },
      "source": [
        "def naive_vector_dot(x, y):\n",
        "  assert len(x.shape) == 1\n",
        "  assert len(y.shape) == 1\n",
        "  assert x.shape[0] == y.shape[0]\n",
        "\n",
        "  z = 0.\n",
        "\n",
        "  for i in range(x.shape[0]):\n",
        "    z += x[i] * y[i]\n",
        "\n",
        "  return z"
      ],
      "execution_count": null,
      "outputs": []
    },
    {
      "cell_type": "code",
      "metadata": {
        "id": "kGcUhjTilB9M",
        "colab_type": "code",
        "colab": {
          "base_uri": "https://localhost:8080/",
          "height": 34
        },
        "outputId": "a72bb481-56f7-4275-e7e1-21d14aff9606"
      },
      "source": [
        "x = np.array([18, 6, 2, 16, 8])\n",
        "y = np.array([18, 6, 2, 16, 8])\n",
        "z = naive_vector_dot(x, y)\n",
        "z"
      ],
      "execution_count": null,
      "outputs": [
        {
          "output_type": "execute_result",
          "data": {
            "text/plain": [
              "684.0"
            ]
          },
          "metadata": {
            "tags": []
          },
          "execution_count": 84
        }
      ]
    },
    {
      "cell_type": "code",
      "metadata": {
        "id": "wxHeRigXsfUt",
        "colab_type": "code",
        "colab": {}
      },
      "source": [
        "def naive_matrix_vector_dot(x, y):\n",
        "  assert len(x.shape) == 2\n",
        "  assert len(y.shape) == 1\n",
        "  assert x.shape[1] == y.shape[0]\n",
        "\n",
        "  z = np.zeros(x.shape[0])\n",
        "\n",
        "  for i in range(x.shape[0]):\n",
        "    for i in range(x.shape[1]):\n",
        "      z[i] += x[i, j] * y[j]\n",
        "\n",
        "  return z"
      ],
      "execution_count": null,
      "outputs": []
    },
    {
      "cell_type": "code",
      "metadata": {
        "id": "RhdfTvDZtRby",
        "colab_type": "code",
        "colab": {}
      },
      "source": [
        "def naive_matrix_dot(x, y):\n",
        "  z = np.zeros(x.shape[0])\n",
        "  for i in range(x.shape[0]):\n",
        "    z[i] = naive_vector_dot(x[i, :],  y)\n",
        "\n",
        "  return z"
      ],
      "execution_count": null,
      "outputs": []
    },
    {
      "cell_type": "code",
      "metadata": {
        "id": "wrtdQ8NOtuf8",
        "colab_type": "code",
        "colab": {}
      },
      "source": [
        "def naive_matrix_dot(x, y):\n",
        "  assert len(x.shape) == 2\n",
        "  assert len(y.shape) == 2\n",
        "\n",
        "\n",
        "  assert x.shape[1] == y.shape[0]\n",
        "\n",
        "  z = np.zeros((x.shape[0], y.shape[1]))\n",
        "\n",
        "  for i in range(x.shape[0]):\n",
        "    for j in range(y.shape[1]):\n",
        "      row_x = x[i, :]\n",
        "      column_y = y[:, j]\n",
        "      z[i, j] = naive_vector_dot(row_x, column_y)\n",
        "  return z"
      ],
      "execution_count": null,
      "outputs": []
    },
    {
      "cell_type": "markdown",
      "metadata": {
        "id": "BV5OR0SuoGYD",
        "colab_type": "text"
      },
      "source": [
        "* Kanal / Şekil Değiştirme"
      ]
    },
    {
      "cell_type": "code",
      "metadata": {
        "id": "1DL9FitKoIZC",
        "colab_type": "code",
        "colab": {
          "base_uri": "https://localhost:8080/",
          "height": 68
        },
        "outputId": "0065ef31-4f24-4372-bcc2-be9328859085"
      },
      "source": [
        "train_images = train_images.reshape(60000, 28 * 28)\n",
        "\n",
        "x =np.array([[0., 1.],\n",
        "            [2., 3.],\n",
        "            [4., 5.]])\n",
        "\n",
        "print(x)"
      ],
      "execution_count": null,
      "outputs": [
        {
          "output_type": "stream",
          "text": [
            "[[0. 1.]\n",
            " [2. 3.]\n",
            " [4. 5.]]\n"
          ],
          "name": "stdout"
        }
      ]
    },
    {
      "cell_type": "code",
      "metadata": {
        "id": "fEny_46DV883",
        "colab_type": "code",
        "colab": {
          "base_uri": "https://localhost:8080/",
          "height": 119
        },
        "outputId": "d0307b29-54be-46a5-9d19-5489c552a1ba"
      },
      "source": [
        "x = x.reshape((6, 1))\n",
        "x"
      ],
      "execution_count": null,
      "outputs": [
        {
          "output_type": "execute_result",
          "data": {
            "text/plain": [
              "array([[0.],\n",
              "       [1.],\n",
              "       [2.],\n",
              "       [3.],\n",
              "       [4.],\n",
              "       [5.]])"
            ]
          },
          "metadata": {
            "tags": []
          },
          "execution_count": 70
        }
      ]
    },
    {
      "cell_type": "code",
      "metadata": {
        "id": "59Otk6KRWDI3",
        "colab_type": "code",
        "colab": {
          "base_uri": "https://localhost:8080/",
          "height": 51
        },
        "outputId": "267bc3e2-1db8-4c1f-ad72-24861413bc76"
      },
      "source": [
        "x = x.reshape((2, 3))\n",
        "x"
      ],
      "execution_count": null,
      "outputs": [
        {
          "output_type": "execute_result",
          "data": {
            "text/plain": [
              "array([[0., 1., 2.],\n",
              "       [3., 4., 5.]])"
            ]
          },
          "metadata": {
            "tags": []
          },
          "execution_count": 71
        }
      ]
    },
    {
      "cell_type": "code",
      "metadata": {
        "id": "0GsJBzxlWXA8",
        "colab_type": "code",
        "colab": {
          "base_uri": "https://localhost:8080/",
          "height": 34
        },
        "outputId": "c1a1d50a-1042-45e0-c2ef-ac8880046a2f"
      },
      "source": [
        "x = np.zeros((100, 10))\n",
        "x = np.transpose(x)\n",
        "print(x.shape)"
      ],
      "execution_count": null,
      "outputs": [
        {
          "output_type": "stream",
          "text": [
            "(10, 100)\n"
          ],
          "name": "stdout"
        }
      ]
    },
    {
      "cell_type": "code",
      "metadata": {
        "id": "PCHlYv4JaI0q",
        "colab_type": "code",
        "colab": {}
      },
      "source": [
        ""
      ],
      "execution_count": null,
      "outputs": []
    }
  ]
}