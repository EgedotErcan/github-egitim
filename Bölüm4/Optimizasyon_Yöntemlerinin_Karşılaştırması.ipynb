{
  "nbformat": 4,
  "nbformat_minor": 0,
  "metadata": {
    "colab": {
      "name": "Optimizasyon_Yöntemlerinin_Karşılaştırması.ipynb",
      "provenance": [],
      "collapsed_sections": []
    },
    "kernelspec": {
      "name": "python2",
      "display_name": "Python 2"
    },
    "accelerator": "GPU"
  },
  "cells": [
    {
      "cell_type": "markdown",
      "metadata": {
        "id": "oA7pWHsNPLdl",
        "colab_type": "text"
      },
      "source": [
        "# Derin Öğrenme İçin Optimizasyon Yöntemlerinin Karşılaştırılması\n",
        "\n",
        "---\n",
        "Hayatımız optimizasyonla ilgili aslında evden çıkıyorsunuz işe, okula, arkadaşlarınızla buluşmaya ya da her nereyse gitmek için en kısa, en konforlu, en manzaralı, en ucuz gibi çeşitli yol alternatifleriniz var ve siz hem konforlu hem hızlı hem de manzaralı olsun istiyorsunuz 😎 Buna göre mümkün olan en uygun yolu seçiyorsunuz ama biraz daha fazla para ödemiş oluyorsunuz. 💸  İşte bu yaptığınız iş doğal bir **ödünleşim yani optimizasyon**. Sürekli zaman-maliyet-başarım gibi kriterleri birbirlerine göre kıyaslayıp orta noktada buluşmaya çalışıyorsunuz. Bir konuyu arkadaşınızla tartışırken bile bunu yapıyorsunuz hiç farketmediniz mi? \n",
        "\n",
        "🎯 **İşte özetle optimizasyon bu!** \n",
        "\n",
        "![Optimizasyon](https://gifimage.net/wp-content/uploads/2017/01/Happy-Dance-GIF-Image-for-Whatsapp-and-Facebook-7.gif)\n",
        "\n",
        "\n",
        "\n",
        "---\n",
        "Bir makine öğrenmesi/derin öğrenme/yapay sinir ağı modeli tasarladığımızda da amacımız hatayı minimize etmektir. Bunun için daha hızlı fakat lokal minimumlara takılma ihtimali olan bir algoritma, ya da daha yavaş ama daha güvenli bir algoritma gibi bir çok seçeneğimiz var, özetle matematiğine de değineceğim. Ancak optimizasyon algoritmasını seçerken de küçük bir optimizasyon yapmamız gerekir. Ne istiyoruz? Ne kadar işlem yapma kapasitemiz var? Eğitimin ne kadar sürmesini istiyoruz? Hatayı ne kadar minimuma indirmemiz bizim işimizi görür? Buna uygun olacak türden bir algoritmayı tercih etmemiz gerekir. \n",
        "\n",
        "---\n",
        "\n",
        "Bunun için MNIST veri seti için basit bir Evrişimli Sİnir ağı modeli tercih edilmiştir. \n",
        "\n",
        "\n",
        "*   Stokastik Bayır/Gradyan İniş (Stochastic Gradient Descent-SDG)\n",
        "*   RMSprop Optimizasyonu\n",
        "*   Adagrad Optimizasyonu\n",
        "*   Adadelta Optimizasyonu\n",
        "*   Adam Optimizasyonu\n",
        "\n",
        "\n",
        "Ağırlıklar ve bias değerleri gibi model parametrelerini güncelleyerek Yapay Sinir Ağı modeliniz için hangi optimizasyon algoritmasını kullanacağınızı hiç merak ettiniz mi? Gradyan İniş veya Stokastik Gradyan İniş veya Adam hangisini ne zaman tercih etmeliyiz?\n",
        "\n",
        "---\n",
        "### BASİTÇE DERİN ÖĞRENME ANATOMİSİ\n",
        "\n",
        "**DerinÖğrenme(x)= Model(x) + MaliyetFonksiyonu(Model(x)) + GirişVeriSeti (x) + Optimizasyon(MaliyetFonksiyonu(x))**\n",
        "\n",
        "Derin öğrenme modeli olurştururken kafayı yememize sebep olan bir sürü parametre ve hiperparametre ayarlamamız gerekir. Amacımızı temel olarak iki ana gruba ayırabiliriz:\n",
        "* Maliyet fonksiyonunu azaltmak\n",
        "* Genel hatayı minimize etmek\n",
        "\n",
        "Bunun için **optimizasyon** ve **regularizasyon/düzgünleştirme** denen iki önemli hadise mevcuttur. Bu çalışma dosyasında optimizasyon konusuna odaklanıyoruz. Derin öğrenme diyince optimizasyon fonksiyonu olarak **Stokastik Gradyan/Bayır İniş algoritması** ilk akla gelen ve en çok kullanılan maliyet fonksiyonunu minimize etme yöntemidir. Neden böyle olduğunu çalışmanın sonunda daha net anlayacaksınız!\n",
        "\n",
        "### Gradyan/Bayır İniş Nedir? \n",
        "Akıllı Sistemleri nasıl eğittiğimize ve optimize ettiğimize dair en önemli teknik ve temeldir. \n",
        "\n",
        "---\n",
        "\n",
        "İlk olarak, gradyan iniş ve ilişkili adımların, değişkenlerinin ayrıntılarına girmeden önce lojistik regresyonda nasıl çalıştığını görelim. Basitlik adına, lojistik regresyon modelinin sadece iki parametresi olduğunu varsayalım: ağırlık **w** ve biası **b**.\n",
        "\n",
        "1. Ağırlık w ve önyargı b'yi herhangi bir rasgele sayıya sıfırlayın.\n",
        "2. α öğrenme oranı için bir değer seçin. Öğrenme hızı, adımların her bir yinelemede ne kadar büyük olacağını belirler.\n",
        "\n",
        "> * α çok küçükse, yakınsaması ve hesaplama açısından maliyetli hale ve uzun zaman alacaktır.\n",
        "\n",
        "> * α büyükse, minimumda ulaşma başarısız olabilir.\n",
        "Bu nedenle, maliyet fonksiyonunu α'nın farklı değerlerine karşı çizin ve yakınsak olan ilk değerden hemen önceki α'nın değerini seçin, böylece yakınsak olan çok hızlı bir öğrenme algoritmasına sahip olacaktık.\n",
        "> * En yaygın kullanılan öğrenme oranları: 0,001, 0,003, 0,01, 0,03, 0,1, 0,3'tür. \n",
        "Tabi öğrenme oranına göre gradyan iniş algoritmasının karşılaştırılması yapılabilir. Gradyan iniş ile yitim fonksiyonunu minimize ederken öğrenme oranını değiştirirsek durum yine değişecektir. Bu da ayrı bir çalışmanın konusu olsun 😃 \n",
        "\n",
        "![Loss-Epoch](https://i.hizliresim.com/qdnnaQ.jpg)\n",
        "\n",
        "3. Verilerin çok farklı ölçeklerde olup olmadığını ölçeklendirdiğinizden (normalize ettiğinizden) emin olun. Verileri ölçeklendirmezsek, seviye eğrileri daha dar ve daha uzun olur, bu da bir araya gelmeninine minimuma ulaşmanın daha uzun süreceği anlamına gelir.\n",
        "Verileri μ = 0 ve σ = 1 olacak şekilde ölçeklendirebilirsiniz. Her örneği ölçeklendirme formülü aşağıdadır:\n",
        "\n",
        "Her itersyonda, her bir parametre için **J (w) w.r.t** maliyet fonksiyonunun kısmi türevini alın.\n",
        "\n",
        "![Denkemler](https://i.hizliresim.com/GmXXa6.png)\n",
        "\n",
        "İllüstrasyonda, bias olmadığını varsayalım. Eğer mevcut değerin w> 0 eğimi ise, bu, optimal w* nin sağında olduğumuz anlamına gelir. Bu nedenle, güncelleme negatif olacak ve w* 'nin optimum değerlerine yaklaşmaya başlayacaktır. Bununla birlikte, negatifse, güncelleme pozitif olacaktır ve w* 'nin optimum değerlerine yakınsamak için mevcut w değerini artıracaktır.\n",
        "\n",
        "![](https://imaddabbura.github.io/img/gradient_descent_algorithms/gradients.PNG)\n",
        "\n",
        "\n",
        "\n",
        "---\n",
        "\n",
        "\n",
        "Stokastik gradyan iniş ile klasik gradyan iniş algoritması arasında aşağıdaki görselden anlaşılacağı gibi salınım farkı vardır. Bu osilasyon gerçek minimum değerini yakalamakta yardımcı olurken maalesef stokastik gradyan iniş algritmasının yakınsama hızını oldukça yavaşlatmaktadır. \n",
        "\n",
        "![SGD-GD](https://datascience-enthusiast.com/figures/kiank_sgd.png)\n",
        "\n",
        "Bunun yerine bir ortayol bulunarak mini-kümeli gradyan iniş algoritmasın da uygulanabilir. Böylece az salınım ile hatayı minimize eden değer aranabilir.\n",
        "\n",
        "![SGD-MBGD](https://datascience-enthusiast.com/figures/kiank_minibatch.png)\n",
        "\n",
        "\n",
        "\n",
        "---\n",
        "\n",
        "### En çok kullanılan optimizasyon algoritmalarının minimuma yakınsama hızlarının karşılaştırılması\n",
        "\n",
        "![cs231n](https://cdn-images-1.medium.com/max/800/1*XVFmo9NxLnwDr3SxzKy-rA.gif)\n",
        "\n"
      ]
    },
    {
      "cell_type": "markdown",
      "metadata": {
        "id": "Zl6kT2naQujy",
        "colab_type": "text"
      },
      "source": [
        "### Google Colab Kimlik Doğrulama İşlemi\n",
        "\n",
        "Klasik Colab kimlik doğrulama işlemi ile başlayalım!"
      ]
    },
    {
      "cell_type": "code",
      "metadata": {
        "id": "tCyIxEY6P3tp",
        "colab_type": "code",
        "colab": {
          "base_uri": "https://localhost:8080/",
          "height": 128
        },
        "outputId": "ddd834b3-6e31-467d-82e5-8a100be729dd"
      },
      "source": [
        "from google.colab import drive\n",
        "drive.mount('/content/drive/')"
      ],
      "execution_count": null,
      "outputs": [
        {
          "output_type": "stream",
          "text": [
            "Go to this URL in a browser: https://accounts.google.com/o/oauth2/auth?client_id=947318989803-6bn6qk8qdgf4n4g3pfee6491hc0brc4i.apps.googleusercontent.com&redirect_uri=urn%3Aietf%3Awg%3Aoauth%3A2.0%3Aoob&scope=email%20https%3A%2F%2Fwww.googleapis.com%2Fauth%2Fdocs.test%20https%3A%2F%2Fwww.googleapis.com%2Fauth%2Fdrive%20https%3A%2F%2Fwww.googleapis.com%2Fauth%2Fdrive.photos.readonly%20https%3A%2F%2Fwww.googleapis.com%2Fauth%2Fpeopleapi.readonly&response_type=code\n",
            "\n",
            "Enter your authorization code:\n",
            "··········\n",
            "Mounted at /content/drive/\n"
          ],
          "name": "stdout"
        }
      ]
    },
    {
      "cell_type": "markdown",
      "metadata": {
        "id": "82C-ngQ0RSuW",
        "colab_type": "text"
      },
      "source": [
        "### Kütüphanelerin kurulması ve gerekli importların yapılması adımı\n",
        "⏬⏬⏬"
      ]
    },
    {
      "cell_type": "code",
      "metadata": {
        "id": "VEzr1ibOQ4S4",
        "colab_type": "code",
        "colab": {}
      },
      "source": [
        "!pip install -q keras"
      ],
      "execution_count": null,
      "outputs": []
    },
    {
      "cell_type": "code",
      "metadata": {
        "id": "JDCBn987Q8Eq",
        "colab_type": "code",
        "colab": {
          "base_uri": "https://localhost:8080/",
          "height": 35
        },
        "outputId": "f827d48a-5d8c-44b5-ae38-92397dd70461"
      },
      "source": [
        "from __future__ import print_function\n",
        "import keras\n",
        "from keras.datasets import mnist\n",
        "from keras.models import load_model\n",
        "from keras.models import Sequential\n",
        "from keras.layers import Dense, Dropout, Flatten\n",
        "from keras. layers import Conv2D, MaxPooling2D\n",
        "from keras import backend as K\n",
        "\n",
        "import tensorflow  as tf\n",
        "from keras.layers import *\n",
        "from keras.callbacks import ReduceLROnPlateau\n",
        "\n",
        "import matplotlib.pyplot as plt"
      ],
      "execution_count": null,
      "outputs": [
        {
          "output_type": "stream",
          "text": [
            "Using TensorFlow backend.\n"
          ],
          "name": "stderr"
        }
      ]
    },
    {
      "cell_type": "markdown",
      "metadata": {
        "id": "j8M4qym0RbPN",
        "colab_type": "text"
      },
      "source": [
        "## Veri Setinin İndirilmesi\n",
        " 0️⃣ 1️⃣ 2️⃣ 3️⃣ 4️⃣ 5️⃣ 6️⃣ 7️⃣ 8️⃣ 9️⃣ "
      ]
    },
    {
      "cell_type": "code",
      "metadata": {
        "id": "A8Ft_MHjQ_td",
        "colab_type": "code",
        "colab": {
          "base_uri": "https://localhost:8080/",
          "height": 72
        },
        "outputId": "e8f809a9-268c-4c9a-f05e-e63e62069155"
      },
      "source": [
        "(x_train, y_train), (x_test, y_test) = mnist.load_data()"
      ],
      "execution_count": null,
      "outputs": [
        {
          "output_type": "stream",
          "text": [
            "Downloading data from https://s3.amazonaws.com/img-datasets/mnist.npz\n",
            "11493376/11490434 [==============================] - 1s 0us/step\n",
            "11501568/11490434 [==============================] - 1s 0us/step\n"
          ],
          "name": "stdout"
        }
      ]
    },
    {
      "cell_type": "markdown",
      "metadata": {
        "id": "NHb18AfaR54m",
        "colab_type": "text"
      },
      "source": [
        "### Yapılandırma Ayarları\n",
        "Küme boyutu, sınıf sayısı, eğitim epoch sayısı gibi parametreleri tüm optimizasyon denemeleri için aynı şekilde ayarlıyoruz!"
      ]
    },
    {
      "cell_type": "code",
      "metadata": {
        "id": "PmdC7R1bs_yG",
        "colab_type": "code",
        "colab": {}
      },
      "source": [
        "batch_size = 128 # Küme Boyutu\n",
        "num_classes = 10 # Sınıf Sayısı\n",
        "epochs = 20 # Eğitimin epoch sayısı\n",
        "w_l2 = 1e-5 # Başlangıç"
      ],
      "execution_count": null,
      "outputs": []
    },
    {
      "cell_type": "code",
      "metadata": {
        "id": "tFV8wtBStCRR",
        "colab_type": "code",
        "colab": {}
      },
      "source": [
        "reduce_lr = ReduceLROnPlateau(monitor='val_loss', factor=0.2, patience=5, min_lr=1e-5)"
      ],
      "execution_count": null,
      "outputs": []
    },
    {
      "cell_type": "code",
      "metadata": {
        "id": "oqKMPk4YtfTD",
        "colab_type": "code",
        "colab": {
          "base_uri": "https://localhost:8080/",
          "height": 72
        },
        "outputId": "945f7f25-c28e-42ce-cc5a-120b03836c27"
      },
      "source": [
        "img_rows, img_cols = 28, 28\n",
        "\n",
        "if K.image_data_format() == 'channels_first':\n",
        "    x_train = x_train.reshape(x_train.shape[0], 1, img_rows, img_cols)\n",
        "    x_test = x_test.reshape(x_test.shape[0], 1, img_rows, img_cols)\n",
        "    input_shape = (1, img_rows, img_cols)\n",
        "else:\n",
        "    x_train = x_train.reshape(x_train.shape[0], img_rows, img_cols, 1)\n",
        "    x_test = x_test.reshape(x_test.shape[0], img_rows, img_cols, 1)\n",
        "    input_shape = (img_rows, img_cols, 1)\n",
        "\n",
        "x_train = x_train.astype('float32')\n",
        "x_test = x_test.astype('float32')\n",
        "x_train /= 255\n",
        "x_test /= 255\n",
        "print('x_train shape:', x_train.shape)\n",
        "print(x_train.shape[0], 'train samples')\n",
        "print(x_test.shape[0], 'test samples')\n",
        "\n",
        "# sınıf vektörlerini ikili sınıf matrislerine dönüştürmek\n",
        "y_train = keras.utils.to_categorical(y_train, num_classes)\n",
        "y_test = keras.utils.to_categorical(y_test, num_classes)"
      ],
      "execution_count": null,
      "outputs": [
        {
          "output_type": "stream",
          "text": [
            "x_train shape: (60000, 28, 28, 1)\n",
            "60000 train samples\n",
            "10000 test samples\n"
          ],
          "name": "stdout"
        }
      ]
    },
    {
      "cell_type": "code",
      "metadata": {
        "id": "Yyv7agjBiaLr",
        "colab_type": "code",
        "colab": {}
      },
      "source": [
        "from keras import optimizers"
      ],
      "execution_count": null,
      "outputs": []
    },
    {
      "cell_type": "markdown",
      "metadata": {
        "id": "Yoz7Bmu1ZVZ5",
        "colab_type": "text"
      },
      "source": [
        "### Tüm optimizasyon yöntemlerini eğiteceğimiz evrişimli sinir ağı modelinin oluşturulması"
      ]
    },
    {
      "cell_type": "code",
      "metadata": {
        "id": "pXcn3PNrZUgB",
        "colab_type": "code",
        "colab": {}
      },
      "source": [
        "model = Sequential()\n",
        "model.add(Conv2D(32, kernel_size=(3, 3),  kernel_regularizer=regularizers.l2(w_l2),\n",
        "                 input_shape=input_shape))\n",
        "model.add(BatchNormalization())\n",
        "model.add(Activation('relu'))\n",
        "model.add(Conv2D(64, (3, 3),  kernel_regularizer=regularizers.l2(w_l2)))\n",
        "model.add(BatchNormalization())\n",
        "model.add(Activation('relu'))\n",
        "model.add(MaxPooling2D(pool_size=(2, 2)))\n",
        "model.add(Dropout(0.25))\n",
        "model.add(Flatten())\n",
        "model.add(Dense(128, kernel_regularizer=regularizers.l2(w_l2)))\n",
        "model.add(BatchNormalization())\n",
        "model.add(Activation('relu'))\n",
        "model.add(Dropout(0.5))\n",
        "model.add(Dense(num_classes, activation='softmax'))"
      ],
      "execution_count": null,
      "outputs": []
    },
    {
      "cell_type": "markdown",
      "metadata": {
        "id": "yplz3Z1PUkL7",
        "colab_type": "text"
      },
      "source": [
        "### STOKASTİK GRADYAN/BAYIR İNİŞ OPTİMİZASYONU\n",
        "\n",
        "Tüm örneklerden geçmek yerine, Stokastik Degrade İniş (SGD), her bir örnekte $(x ^ i, y ^ i)$  parametrelerin güncellenmesini gerçekleştirir. Bu nedenle, öğrenme her örnekte gerçekleşir:\n",
        "\n",
        "$w = w− α∇wJ(x^i,y^i;w,b)$\n",
        "\n",
        "```\n",
        "for i in range(num_epochs):\n",
        "    np.random.shuffle(data)\n",
        "    for example in data:\n",
        "        grad = compute_gradient(example, params)\n",
        "        params = params - learning_rate * grad\n",
        "```\n",
        "\n"
      ]
    },
    {
      "cell_type": "code",
      "metadata": {
        "id": "F3Ehq8baUiNQ",
        "colab_type": "code",
        "colab": {
          "base_uri": "https://localhost:8080/",
          "height": 654
        },
        "outputId": "89b17d0b-e81d-49e1-d7c7-bbfa7f89aada"
      },
      "source": [
        "model.compile(loss=keras.losses.categorical_crossentropy,\n",
        "              optimizer=keras.optimizers.SGD(),\n",
        "              metrics=['accuracy'])\n",
        "model.summary()"
      ],
      "execution_count": null,
      "outputs": [
        {
          "output_type": "stream",
          "text": [
            "_________________________________________________________________\n",
            "Layer (type)                 Output Shape              Param #   \n",
            "=================================================================\n",
            "conv2d_1 (Conv2D)            (None, 26, 26, 32)        320       \n",
            "_________________________________________________________________\n",
            "batch_normalization_1 (Batch (None, 26, 26, 32)        128       \n",
            "_________________________________________________________________\n",
            "activation_1 (Activation)    (None, 26, 26, 32)        0         \n",
            "_________________________________________________________________\n",
            "conv2d_2 (Conv2D)            (None, 24, 24, 64)        18496     \n",
            "_________________________________________________________________\n",
            "batch_normalization_2 (Batch (None, 24, 24, 64)        256       \n",
            "_________________________________________________________________\n",
            "activation_2 (Activation)    (None, 24, 24, 64)        0         \n",
            "_________________________________________________________________\n",
            "max_pooling2d_1 (MaxPooling2 (None, 12, 12, 64)        0         \n",
            "_________________________________________________________________\n",
            "dropout_1 (Dropout)          (None, 12, 12, 64)        0         \n",
            "_________________________________________________________________\n",
            "flatten_1 (Flatten)          (None, 9216)              0         \n",
            "_________________________________________________________________\n",
            "dense_1 (Dense)              (None, 128)               1179776   \n",
            "_________________________________________________________________\n",
            "batch_normalization_3 (Batch (None, 128)               512       \n",
            "_________________________________________________________________\n",
            "activation_3 (Activation)    (None, 128)               0         \n",
            "_________________________________________________________________\n",
            "dropout_2 (Dropout)          (None, 128)               0         \n",
            "_________________________________________________________________\n",
            "dense_2 (Dense)              (None, 10)                1290      \n",
            "=================================================================\n",
            "Total params: 1,200,778\n",
            "Trainable params: 1,200,330\n",
            "Non-trainable params: 448\n",
            "_________________________________________________________________\n"
          ],
          "name": "stdout"
        }
      ]
    },
    {
      "cell_type": "markdown",
      "metadata": {
        "id": "7GgoYOCxyvSA",
        "colab_type": "text"
      },
      "source": [
        "### Modelin Eğitilm ve Test Sonuçları "
      ]
    },
    {
      "cell_type": "code",
      "metadata": {
        "id": "so9wTRPPUtIf",
        "colab_type": "code",
        "colab": {
          "base_uri": "https://localhost:8080/",
          "height": 799
        },
        "outputId": "b44e4cc8-21e4-4e43-db08-243ecd84f6a8"
      },
      "source": [
        "hist_SGD=model.fit(x_train, y_train,\n",
        "          batch_size=batch_size,\n",
        "          epochs=epochs,\n",
        "          verbose=1,\n",
        "          validation_data=(x_test, y_test), callbacks=[reduce_lr])\n",
        "score = model.evaluate(x_test, y_test, verbose=0)\n",
        "print('Test loss:', score[0])\n",
        "print('Test accuracy:', score[1])"
      ],
      "execution_count": null,
      "outputs": [
        {
          "output_type": "stream",
          "text": [
            "Train on 60000 samples, validate on 10000 samples\n",
            "Epoch 1/20\n",
            "60000/60000 [==============================] - 11s 189us/step - loss: 0.0255 - acc: 0.9984 - val_loss: 0.0411 - val_acc: 0.9937\n",
            "Epoch 2/20\n",
            "60000/60000 [==============================] - 10s 174us/step - loss: 0.0256 - acc: 0.9980 - val_loss: 0.0408 - val_acc: 0.9936\n",
            "Epoch 3/20\n",
            "60000/60000 [==============================] - 10s 173us/step - loss: 0.0253 - acc: 0.9982 - val_loss: 0.0407 - val_acc: 0.9940\n",
            "Epoch 4/20\n",
            "60000/60000 [==============================] - 10s 175us/step - loss: 0.0257 - acc: 0.9981 - val_loss: 0.0409 - val_acc: 0.9940\n",
            "Epoch 5/20\n",
            "60000/60000 [==============================] - 10s 173us/step - loss: 0.0255 - acc: 0.9982 - val_loss: 0.0407 - val_acc: 0.9940\n",
            "Epoch 6/20\n",
            "60000/60000 [==============================] - 10s 173us/step - loss: 0.0256 - acc: 0.9981 - val_loss: 0.0412 - val_acc: 0.9937\n",
            "Epoch 7/20\n",
            "60000/60000 [==============================] - 10s 172us/step - loss: 0.0250 - acc: 0.9984 - val_loss: 0.0410 - val_acc: 0.9935\n",
            "Epoch 8/20\n",
            "60000/60000 [==============================] - 10s 173us/step - loss: 0.0257 - acc: 0.9981 - val_loss: 0.0405 - val_acc: 0.9941\n",
            "Epoch 9/20\n",
            "60000/60000 [==============================] - 10s 173us/step - loss: 0.0255 - acc: 0.9980 - val_loss: 0.0406 - val_acc: 0.9940\n",
            "Epoch 10/20\n",
            "60000/60000 [==============================] - 10s 173us/step - loss: 0.0252 - acc: 0.9983 - val_loss: 0.0410 - val_acc: 0.9937\n",
            "Epoch 11/20\n",
            "60000/60000 [==============================] - 10s 173us/step - loss: 0.0250 - acc: 0.9984 - val_loss: 0.0413 - val_acc: 0.9935\n",
            "Epoch 12/20\n",
            "60000/60000 [==============================] - 10s 174us/step - loss: 0.0253 - acc: 0.9981 - val_loss: 0.0408 - val_acc: 0.9938\n",
            "Epoch 13/20\n",
            "60000/60000 [==============================] - 10s 174us/step - loss: 0.0252 - acc: 0.9984 - val_loss: 0.0411 - val_acc: 0.9938\n",
            "Epoch 14/20\n",
            "60000/60000 [==============================] - 10s 174us/step - loss: 0.0250 - acc: 0.9981 - val_loss: 0.0407 - val_acc: 0.9938\n",
            "Epoch 15/20\n",
            "60000/60000 [==============================] - 10s 173us/step - loss: 0.0252 - acc: 0.9981 - val_loss: 0.0409 - val_acc: 0.9940\n",
            "Epoch 16/20\n",
            "60000/60000 [==============================] - 10s 173us/step - loss: 0.0256 - acc: 0.9980 - val_loss: 0.0409 - val_acc: 0.9938\n",
            "Epoch 17/20\n",
            "60000/60000 [==============================] - 10s 173us/step - loss: 0.0249 - acc: 0.9982 - val_loss: 0.0408 - val_acc: 0.9940\n",
            "Epoch 18/20\n",
            "60000/60000 [==============================] - 10s 173us/step - loss: 0.0249 - acc: 0.9983 - val_loss: 0.0408 - val_acc: 0.9940\n",
            "Epoch 19/20\n",
            "60000/60000 [==============================] - 10s 173us/step - loss: 0.0251 - acc: 0.9982 - val_loss: 0.0408 - val_acc: 0.9939\n",
            "Epoch 20/20\n",
            "60000/60000 [==============================] - 10s 172us/step - loss: 0.0250 - acc: 0.9982 - val_loss: 0.0408 - val_acc: 0.9941\n",
            "Test loss: 0.040762645536661146\n",
            "Test accuracy: 0.9941\n"
          ],
          "name": "stdout"
        }
      ]
    },
    {
      "cell_type": "markdown",
      "metadata": {
        "id": "KYolqTuQT9W0",
        "colab_type": "text"
      },
      "source": [
        "### ADAM OPTİMİZASYONU\n",
        "***Adam veya adaptif momentum AdaDelta’ya benzer bir algoritmadır. AdaDelta’dan farklı olarak parametrelerin her birinin öğrenme oranlarının yanısıra momentum değişikliklerini de önbellekte (cache) saklar; yani RMSprop ve momentumu birleştirir.***"
      ]
    },
    {
      "cell_type": "code",
      "metadata": {
        "id": "n0EE587KUBqg",
        "colab_type": "code",
        "colab": {
          "base_uri": "https://localhost:8080/",
          "height": 783
        },
        "outputId": "5560c3df-9701-4925-ee12-d8c20572c6f6"
      },
      "source": [
        "model.compile(loss=keras.losses.categorical_crossentropy,\n",
        "              optimizer=keras.optimizers.Adam(),\n",
        "              metrics=['accuracy'])\n",
        "\n",
        "\n",
        "\n",
        "model.summary()"
      ],
      "execution_count": null,
      "outputs": [
        {
          "output_type": "stream",
          "text": [
            "WARNING:tensorflow:From /usr/local/lib/python2.7/dist-packages/tensorflow/python/framework/op_def_library.py:263: colocate_with (from tensorflow.python.framework.ops) is deprecated and will be removed in a future version.\n",
            "Instructions for updating:\n",
            "Colocations handled automatically by placer.\n",
            "WARNING:tensorflow:From /usr/local/lib/python2.7/dist-packages/keras/backend/tensorflow_backend.py:3445: calling dropout (from tensorflow.python.ops.nn_ops) with keep_prob is deprecated and will be removed in a future version.\n",
            "Instructions for updating:\n",
            "Please use `rate` instead of `keep_prob`. Rate should be set to `rate = 1 - keep_prob`.\n",
            "_________________________________________________________________\n",
            "Layer (type)                 Output Shape              Param #   \n",
            "=================================================================\n",
            "conv2d_1 (Conv2D)            (None, 26, 26, 32)        320       \n",
            "_________________________________________________________________\n",
            "batch_normalization_1 (Batch (None, 26, 26, 32)        128       \n",
            "_________________________________________________________________\n",
            "activation_1 (Activation)    (None, 26, 26, 32)        0         \n",
            "_________________________________________________________________\n",
            "conv2d_2 (Conv2D)            (None, 24, 24, 64)        18496     \n",
            "_________________________________________________________________\n",
            "batch_normalization_2 (Batch (None, 24, 24, 64)        256       \n",
            "_________________________________________________________________\n",
            "activation_2 (Activation)    (None, 24, 24, 64)        0         \n",
            "_________________________________________________________________\n",
            "max_pooling2d_1 (MaxPooling2 (None, 12, 12, 64)        0         \n",
            "_________________________________________________________________\n",
            "dropout_1 (Dropout)          (None, 12, 12, 64)        0         \n",
            "_________________________________________________________________\n",
            "flatten_1 (Flatten)          (None, 9216)              0         \n",
            "_________________________________________________________________\n",
            "dense_1 (Dense)              (None, 128)               1179776   \n",
            "_________________________________________________________________\n",
            "batch_normalization_3 (Batch (None, 128)               512       \n",
            "_________________________________________________________________\n",
            "activation_3 (Activation)    (None, 128)               0         \n",
            "_________________________________________________________________\n",
            "dropout_2 (Dropout)          (None, 128)               0         \n",
            "_________________________________________________________________\n",
            "dense_2 (Dense)              (None, 10)                1290      \n",
            "=================================================================\n",
            "Total params: 1,200,778\n",
            "Trainable params: 1,200,330\n",
            "Non-trainable params: 448\n",
            "_________________________________________________________________\n"
          ],
          "name": "stdout"
        }
      ]
    },
    {
      "cell_type": "markdown",
      "metadata": {
        "id": "0yql0c0Cyh0F",
        "colab_type": "text"
      },
      "source": [
        "### Modelin Eğitilm ve Test Sonuçları \n"
      ]
    },
    {
      "cell_type": "code",
      "metadata": {
        "id": "PfvkKy_NUd1J",
        "colab_type": "code",
        "colab": {
          "base_uri": "https://localhost:8080/",
          "height": 874
        },
        "outputId": "e3fe8fe6-71d4-4541-c2e7-51b7934e05fb"
      },
      "source": [
        "hist_ADAM=model.fit(x_train, y_train,\n",
        "          batch_size=batch_size,\n",
        "          epochs=epochs,\n",
        "          verbose=1,\n",
        "          validation_data=(x_test, y_test), callbacks=[reduce_lr])\n",
        "score = model.evaluate(x_test, y_test, verbose=0)\n",
        "print('Test loss:', score[0])\n",
        "print('Test accuracy:', score[1])"
      ],
      "execution_count": null,
      "outputs": [
        {
          "output_type": "stream",
          "text": [
            "WARNING:tensorflow:From /usr/local/lib/python2.7/dist-packages/tensorflow/python/ops/math_ops.py:3066: to_int32 (from tensorflow.python.ops.math_ops) is deprecated and will be removed in a future version.\n",
            "Instructions for updating:\n",
            "Use tf.cast instead.\n",
            "Train on 60000 samples, validate on 10000 samples\n",
            "Epoch 1/20\n",
            "60000/60000 [==============================] - 13s 224us/step - loss: 0.1871 - acc: 0.9487 - val_loss: 0.0524 - val_acc: 0.9849\n",
            "Epoch 2/20\n",
            "60000/60000 [==============================] - 11s 191us/step - loss: 0.0804 - acc: 0.9789 - val_loss: 0.0491 - val_acc: 0.9872\n",
            "Epoch 3/20\n",
            "60000/60000 [==============================] - 11s 192us/step - loss: 0.0630 - acc: 0.9837 - val_loss: 0.0451 - val_acc: 0.9883\n",
            "Epoch 4/20\n",
            "60000/60000 [==============================] - 12s 192us/step - loss: 0.0562 - acc: 0.9858 - val_loss: 0.0427 - val_acc: 0.9897\n",
            "Epoch 5/20\n",
            "60000/60000 [==============================] - 12s 193us/step - loss: 0.0531 - acc: 0.9868 - val_loss: 0.0443 - val_acc: 0.9893\n",
            "Epoch 6/20\n",
            "60000/60000 [==============================] - 12s 192us/step - loss: 0.0476 - acc: 0.9887 - val_loss: 0.0426 - val_acc: 0.9900\n",
            "Epoch 7/20\n",
            "60000/60000 [==============================] - 12s 192us/step - loss: 0.0459 - acc: 0.9900 - val_loss: 0.0404 - val_acc: 0.9921\n",
            "Epoch 8/20\n",
            "60000/60000 [==============================] - 11s 190us/step - loss: 0.0440 - acc: 0.9907 - val_loss: 0.0440 - val_acc: 0.9901\n",
            "Epoch 9/20\n",
            "60000/60000 [==============================] - 11s 191us/step - loss: 0.0449 - acc: 0.9911 - val_loss: 0.0439 - val_acc: 0.9921\n",
            "Epoch 10/20\n",
            "60000/60000 [==============================] - 11s 191us/step - loss: 0.0430 - acc: 0.9918 - val_loss: 0.0509 - val_acc: 0.9900\n",
            "Epoch 11/20\n",
            "60000/60000 [==============================] - 11s 190us/step - loss: 0.0444 - acc: 0.9918 - val_loss: 0.0434 - val_acc: 0.9938\n",
            "Epoch 12/20\n",
            "60000/60000 [==============================] - 11s 191us/step - loss: 0.0439 - acc: 0.9928 - val_loss: 0.0523 - val_acc: 0.9904\n",
            "Epoch 13/20\n",
            "60000/60000 [==============================] - 11s 191us/step - loss: 0.0372 - acc: 0.9953 - val_loss: 0.0428 - val_acc: 0.9938\n",
            "Epoch 14/20\n",
            "60000/60000 [==============================] - 12s 192us/step - loss: 0.0327 - acc: 0.9966 - val_loss: 0.0420 - val_acc: 0.9939\n",
            "Epoch 15/20\n",
            "60000/60000 [==============================] - 11s 191us/step - loss: 0.0315 - acc: 0.9969 - val_loss: 0.0420 - val_acc: 0.9937\n",
            "Epoch 16/20\n",
            "60000/60000 [==============================] - 11s 191us/step - loss: 0.0295 - acc: 0.9971 - val_loss: 0.0423 - val_acc: 0.9935\n",
            "Epoch 17/20\n",
            "60000/60000 [==============================] - 11s 190us/step - loss: 0.0281 - acc: 0.9974 - val_loss: 0.0423 - val_acc: 0.9932\n",
            "Epoch 18/20\n",
            "60000/60000 [==============================] - 11s 191us/step - loss: 0.0271 - acc: 0.9977 - val_loss: 0.0411 - val_acc: 0.9936\n",
            "Epoch 19/20\n",
            "60000/60000 [==============================] - 11s 191us/step - loss: 0.0265 - acc: 0.9977 - val_loss: 0.0411 - val_acc: 0.9937\n",
            "Epoch 20/20\n",
            "60000/60000 [==============================] - 12s 192us/step - loss: 0.0251 - acc: 0.9981 - val_loss: 0.0410 - val_acc: 0.9938\n",
            "Test loss: 0.04098205642700195\n",
            "Test accuracy: 0.9938\n"
          ],
          "name": "stdout"
        }
      ]
    },
    {
      "cell_type": "markdown",
      "metadata": {
        "id": "dEyzCokVUvSV",
        "colab_type": "text"
      },
      "source": [
        "### RMSprop OPTİMİZASYONU\n",
        "\n",
        "***RMSprop ve benzeri olan AdaDelta, AdaGrad’ın bu sorununu çözerek bu hızlı düşüşü önler.***"
      ]
    },
    {
      "cell_type": "code",
      "metadata": {
        "id": "Gd5HV0OsCtTz",
        "colab_type": "code",
        "colab": {
          "base_uri": "https://localhost:8080/",
          "height": 654
        },
        "outputId": "04be889e-c224-488f-d2f4-45a390950885"
      },
      "source": [
        "model.compile(loss=keras.losses.categorical_crossentropy,\n",
        "              optimizer=keras.optimizers.RMSprop(),\n",
        "              metrics=['accuracy'])\n",
        "model.summary()"
      ],
      "execution_count": null,
      "outputs": [
        {
          "output_type": "stream",
          "text": [
            "_________________________________________________________________\n",
            "Layer (type)                 Output Shape              Param #   \n",
            "=================================================================\n",
            "conv2d_1 (Conv2D)            (None, 26, 26, 32)        320       \n",
            "_________________________________________________________________\n",
            "batch_normalization_1 (Batch (None, 26, 26, 32)        128       \n",
            "_________________________________________________________________\n",
            "activation_1 (Activation)    (None, 26, 26, 32)        0         \n",
            "_________________________________________________________________\n",
            "conv2d_2 (Conv2D)            (None, 24, 24, 64)        18496     \n",
            "_________________________________________________________________\n",
            "batch_normalization_2 (Batch (None, 24, 24, 64)        256       \n",
            "_________________________________________________________________\n",
            "activation_2 (Activation)    (None, 24, 24, 64)        0         \n",
            "_________________________________________________________________\n",
            "max_pooling2d_1 (MaxPooling2 (None, 12, 12, 64)        0         \n",
            "_________________________________________________________________\n",
            "dropout_1 (Dropout)          (None, 12, 12, 64)        0         \n",
            "_________________________________________________________________\n",
            "flatten_1 (Flatten)          (None, 9216)              0         \n",
            "_________________________________________________________________\n",
            "dense_1 (Dense)              (None, 128)               1179776   \n",
            "_________________________________________________________________\n",
            "batch_normalization_3 (Batch (None, 128)               512       \n",
            "_________________________________________________________________\n",
            "activation_3 (Activation)    (None, 128)               0         \n",
            "_________________________________________________________________\n",
            "dropout_2 (Dropout)          (None, 128)               0         \n",
            "_________________________________________________________________\n",
            "dense_2 (Dense)              (None, 10)                1290      \n",
            "=================================================================\n",
            "Total params: 1,200,778\n",
            "Trainable params: 1,200,330\n",
            "Non-trainable params: 448\n",
            "_________________________________________________________________\n"
          ],
          "name": "stdout"
        }
      ]
    },
    {
      "cell_type": "code",
      "metadata": {
        "id": "9FKUYBcqFQ55",
        "colab_type": "code",
        "colab": {
          "base_uri": "https://localhost:8080/",
          "height": 799
        },
        "outputId": "aabfebc7-2511-4cc4-a686-f33893d85b19"
      },
      "source": [
        "hist_RMSprob=model.fit(x_train, y_train,\n",
        "          batch_size=batch_size,\n",
        "          epochs=epochs,\n",
        "          verbose=1,\n",
        "          validation_data=(x_test, y_test), callbacks=[reduce_lr])\n",
        "score = model.evaluate(x_test, y_test, verbose=0)\n",
        "print('Test loss:', score[0])\n",
        "print('Test accuracy:', score[1])"
      ],
      "execution_count": null,
      "outputs": [
        {
          "output_type": "stream",
          "text": [
            "Train on 60000 samples, validate on 10000 samples\n",
            "Epoch 1/20\n",
            "60000/60000 [==============================] - 12s 200us/step - loss: 0.0320 - acc: 0.9949 - val_loss: 0.0573 - val_acc: 0.9901\n",
            "Epoch 2/20\n",
            "60000/60000 [==============================] - 11s 185us/step - loss: 0.0343 - acc: 0.9941 - val_loss: 0.0859 - val_acc: 0.9860\n",
            "Epoch 3/20\n",
            "60000/60000 [==============================] - 11s 185us/step - loss: 0.0366 - acc: 0.9941 - val_loss: 0.0566 - val_acc: 0.9905\n",
            "Epoch 4/20\n",
            "60000/60000 [==============================] - 11s 185us/step - loss: 0.0413 - acc: 0.9927 - val_loss: 0.0657 - val_acc: 0.9893\n",
            "Epoch 5/20\n",
            "60000/60000 [==============================] - 11s 185us/step - loss: 0.0426 - acc: 0.9932 - val_loss: 0.0826 - val_acc: 0.9882\n",
            "Epoch 6/20\n",
            "60000/60000 [==============================] - 11s 184us/step - loss: 0.0466 - acc: 0.9925 - val_loss: 0.0793 - val_acc: 0.9890\n",
            "Epoch 7/20\n",
            "60000/60000 [==============================] - 11s 185us/step - loss: 0.0459 - acc: 0.9934 - val_loss: 0.0539 - val_acc: 0.9918\n",
            "Epoch 8/20\n",
            "60000/60000 [==============================] - 11s 185us/step - loss: 0.0505 - acc: 0.9927 - val_loss: 0.0706 - val_acc: 0.9892\n",
            "Epoch 9/20\n",
            "60000/60000 [==============================] - 11s 184us/step - loss: 0.0518 - acc: 0.9926 - val_loss: 0.0668 - val_acc: 0.9917\n",
            "Epoch 10/20\n",
            "60000/60000 [==============================] - 11s 184us/step - loss: 0.0534 - acc: 0.9924 - val_loss: 0.0606 - val_acc: 0.9900\n",
            "Epoch 11/20\n",
            "60000/60000 [==============================] - 11s 185us/step - loss: 0.0586 - acc: 0.9921 - val_loss: 0.0748 - val_acc: 0.9895\n",
            "Epoch 12/20\n",
            "60000/60000 [==============================] - 11s 184us/step - loss: 0.0565 - acc: 0.9934 - val_loss: 0.0797 - val_acc: 0.9889\n",
            "Epoch 13/20\n",
            "60000/60000 [==============================] - 11s 184us/step - loss: 0.0504 - acc: 0.9945 - val_loss: 0.0584 - val_acc: 0.9932\n",
            "Epoch 14/20\n",
            "60000/60000 [==============================] - 11s 184us/step - loss: 0.0467 - acc: 0.9955 - val_loss: 0.0601 - val_acc: 0.9929\n",
            "Epoch 15/20\n",
            "60000/60000 [==============================] - 11s 184us/step - loss: 0.0436 - acc: 0.9959 - val_loss: 0.0601 - val_acc: 0.9929\n",
            "Epoch 16/20\n",
            "60000/60000 [==============================] - 11s 185us/step - loss: 0.0428 - acc: 0.9962 - val_loss: 0.0595 - val_acc: 0.9928\n",
            "Epoch 17/20\n",
            "60000/60000 [==============================] - 11s 185us/step - loss: 0.0413 - acc: 0.9965 - val_loss: 0.0621 - val_acc: 0.9924\n",
            "Epoch 18/20\n",
            "60000/60000 [==============================] - 11s 185us/step - loss: 0.0389 - acc: 0.9969 - val_loss: 0.0576 - val_acc: 0.9932\n",
            "Epoch 19/20\n",
            "60000/60000 [==============================] - 11s 184us/step - loss: 0.0387 - acc: 0.9970 - val_loss: 0.0584 - val_acc: 0.9929\n",
            "Epoch 20/20\n",
            "60000/60000 [==============================] - 11s 185us/step - loss: 0.0387 - acc: 0.9967 - val_loss: 0.0583 - val_acc: 0.9929\n",
            "Test loss: 0.058266300532221794\n",
            "Test accuracy: 0.9929\n"
          ],
          "name": "stdout"
        }
      ]
    },
    {
      "cell_type": "markdown",
      "metadata": {
        "id": "9V_WJzZFAi2S",
        "colab_type": "text"
      },
      "source": [
        "### ADAGRAD OPTİMİZASYONU\n",
        "\n",
        "***AdaGrad seyrek parametreler için büyük güncellemeler yaparken sık parametreler için daha küçük güncellemeler yapar. Bu nedenle NLP ve resim tanıma gibi seyrek veriler için daha uygundur.***\n",
        "AdaGrad’da her parametrenin kendi öğrenme hızı vardır ve algoritmanın özelliklerine bağlı olarak öğrenme oranı giderek azalmaktadır. Bu nedenle öğreneme oranı giderek azalır ve zamanın bir noktasında sistem öğrenmeyi bırakır. Bu AdaGrad’ın en büyük dez avantajıdır."
      ]
    },
    {
      "cell_type": "code",
      "metadata": {
        "id": "otVDerwEC3d4",
        "colab_type": "code",
        "colab": {
          "base_uri": "https://localhost:8080/",
          "height": 654
        },
        "outputId": "185e2aab-ab0f-4307-c17e-c56c517da318"
      },
      "source": [
        "model.compile(loss=keras.losses.categorical_crossentropy,\n",
        "              optimizer=keras.optimizers.Adagrad(),\n",
        "              metrics=['accuracy'])\n",
        "model.summary()"
      ],
      "execution_count": null,
      "outputs": [
        {
          "output_type": "stream",
          "text": [
            "_________________________________________________________________\n",
            "Layer (type)                 Output Shape              Param #   \n",
            "=================================================================\n",
            "conv2d_1 (Conv2D)            (None, 26, 26, 32)        320       \n",
            "_________________________________________________________________\n",
            "batch_normalization_1 (Batch (None, 26, 26, 32)        128       \n",
            "_________________________________________________________________\n",
            "activation_1 (Activation)    (None, 26, 26, 32)        0         \n",
            "_________________________________________________________________\n",
            "conv2d_2 (Conv2D)            (None, 24, 24, 64)        18496     \n",
            "_________________________________________________________________\n",
            "batch_normalization_2 (Batch (None, 24, 24, 64)        256       \n",
            "_________________________________________________________________\n",
            "activation_2 (Activation)    (None, 24, 24, 64)        0         \n",
            "_________________________________________________________________\n",
            "max_pooling2d_1 (MaxPooling2 (None, 12, 12, 64)        0         \n",
            "_________________________________________________________________\n",
            "dropout_1 (Dropout)          (None, 12, 12, 64)        0         \n",
            "_________________________________________________________________\n",
            "flatten_1 (Flatten)          (None, 9216)              0         \n",
            "_________________________________________________________________\n",
            "dense_1 (Dense)              (None, 128)               1179776   \n",
            "_________________________________________________________________\n",
            "batch_normalization_3 (Batch (None, 128)               512       \n",
            "_________________________________________________________________\n",
            "activation_3 (Activation)    (None, 128)               0         \n",
            "_________________________________________________________________\n",
            "dropout_2 (Dropout)          (None, 128)               0         \n",
            "_________________________________________________________________\n",
            "dense_2 (Dense)              (None, 10)                1290      \n",
            "=================================================================\n",
            "Total params: 1,200,778\n",
            "Trainable params: 1,200,330\n",
            "Non-trainable params: 448\n",
            "_________________________________________________________________\n"
          ],
          "name": "stdout"
        }
      ]
    },
    {
      "cell_type": "code",
      "metadata": {
        "id": "PxMf0Mv7GRQA",
        "colab_type": "code",
        "colab": {
          "base_uri": "https://localhost:8080/",
          "height": 799
        },
        "outputId": "c5c6c87b-3f5a-4ca0-8308-45cd0d27a09d"
      },
      "source": [
        "hist_adagrad=model.fit(x_train, y_train,\n",
        "          batch_size=batch_size,\n",
        "          epochs=epochs,\n",
        "          verbose=1,\n",
        "          validation_data=(x_test, y_test), callbacks=[reduce_lr])\n",
        "score = model.evaluate(x_test, y_test, verbose=0)\n",
        "print('Test loss:', score[0])\n",
        "print('Test accuracy:', score[1])"
      ],
      "execution_count": null,
      "outputs": [
        {
          "output_type": "stream",
          "text": [
            "Train on 60000 samples, validate on 10000 samples\n",
            "Epoch 1/20\n",
            "60000/60000 [==============================] - 12s 201us/step - loss: 0.0653 - acc: 0.9903 - val_loss: 0.0590 - val_acc: 0.9925\n",
            "Epoch 2/20\n",
            "60000/60000 [==============================] - 11s 182us/step - loss: 0.0502 - acc: 0.9940 - val_loss: 0.0549 - val_acc: 0.9934\n",
            "Epoch 3/20\n",
            "60000/60000 [==============================] - 11s 183us/step - loss: 0.0441 - acc: 0.9961 - val_loss: 0.0638 - val_acc: 0.9918\n",
            "Epoch 4/20\n",
            "60000/60000 [==============================] - 11s 181us/step - loss: 0.0434 - acc: 0.9958 - val_loss: 0.0560 - val_acc: 0.9930\n",
            "Epoch 5/20\n",
            "60000/60000 [==============================] - 11s 181us/step - loss: 0.0399 - acc: 0.9970 - val_loss: 0.0567 - val_acc: 0.9929\n",
            "Epoch 6/20\n",
            "60000/60000 [==============================] - 11s 182us/step - loss: 0.0387 - acc: 0.9971 - val_loss: 0.0567 - val_acc: 0.9926\n",
            "Epoch 7/20\n",
            "60000/60000 [==============================] - 11s 182us/step - loss: 0.0385 - acc: 0.9972 - val_loss: 0.0569 - val_acc: 0.9933\n",
            "Epoch 8/20\n",
            "60000/60000 [==============================] - 11s 181us/step - loss: 0.0374 - acc: 0.9973 - val_loss: 0.0556 - val_acc: 0.9932\n",
            "Epoch 9/20\n",
            "60000/60000 [==============================] - 11s 182us/step - loss: 0.0368 - acc: 0.9976 - val_loss: 0.0556 - val_acc: 0.9933\n",
            "Epoch 10/20\n",
            "60000/60000 [==============================] - 11s 182us/step - loss: 0.0361 - acc: 0.9977 - val_loss: 0.0550 - val_acc: 0.9937\n",
            "Epoch 11/20\n",
            "60000/60000 [==============================] - 11s 183us/step - loss: 0.0360 - acc: 0.9979 - val_loss: 0.0561 - val_acc: 0.9933\n",
            "Epoch 12/20\n",
            "60000/60000 [==============================] - 11s 183us/step - loss: 0.0357 - acc: 0.9976 - val_loss: 0.0554 - val_acc: 0.9937\n",
            "Epoch 13/20\n",
            "60000/60000 [==============================] - 11s 183us/step - loss: 0.0357 - acc: 0.9978 - val_loss: 0.0553 - val_acc: 0.9935\n",
            "Epoch 14/20\n",
            "60000/60000 [==============================] - 11s 183us/step - loss: 0.0363 - acc: 0.9976 - val_loss: 0.0552 - val_acc: 0.9937\n",
            "Epoch 15/20\n",
            "60000/60000 [==============================] - 11s 183us/step - loss: 0.0363 - acc: 0.9974 - val_loss: 0.0554 - val_acc: 0.9935\n",
            "Epoch 16/20\n",
            "60000/60000 [==============================] - 11s 183us/step - loss: 0.0353 - acc: 0.9977 - val_loss: 0.0554 - val_acc: 0.9934\n",
            "Epoch 17/20\n",
            "60000/60000 [==============================] - 11s 183us/step - loss: 0.0350 - acc: 0.9979 - val_loss: 0.0554 - val_acc: 0.9934\n",
            "Epoch 18/20\n",
            "60000/60000 [==============================] - 11s 183us/step - loss: 0.0356 - acc: 0.9979 - val_loss: 0.0553 - val_acc: 0.9935\n",
            "Epoch 19/20\n",
            "60000/60000 [==============================] - 11s 182us/step - loss: 0.0354 - acc: 0.9980 - val_loss: 0.0552 - val_acc: 0.9936\n",
            "Epoch 20/20\n",
            "60000/60000 [==============================] - 11s 183us/step - loss: 0.0356 - acc: 0.9979 - val_loss: 0.0553 - val_acc: 0.9935\n",
            "Test loss: 0.055288474303483964\n",
            "Test accuracy: 0.9935\n"
          ],
          "name": "stdout"
        }
      ]
    },
    {
      "cell_type": "markdown",
      "metadata": {
        "id": "-SjWtxBJAo1F",
        "colab_type": "text"
      },
      "source": [
        "### ADADELTA OPTİMİZASYONU\n",
        "***AdaDelta, AdaGrad’ın bu sorununu çözerek bu hızlı düşüşü önler.***"
      ]
    },
    {
      "cell_type": "code",
      "metadata": {
        "id": "K8ZC_xhVDB-i",
        "colab_type": "code",
        "colab": {
          "base_uri": "https://localhost:8080/",
          "height": 654
        },
        "outputId": "d94e9885-f266-4d1d-cc5e-12c5d1a84317"
      },
      "source": [
        "model.compile(loss=keras.losses.categorical_crossentropy,\n",
        "              optimizer=keras.optimizers.Adadelta(),\n",
        "              metrics=['accuracy'])\n",
        "model.summary()"
      ],
      "execution_count": null,
      "outputs": [
        {
          "output_type": "stream",
          "text": [
            "_________________________________________________________________\n",
            "Layer (type)                 Output Shape              Param #   \n",
            "=================================================================\n",
            "conv2d_1 (Conv2D)            (None, 26, 26, 32)        320       \n",
            "_________________________________________________________________\n",
            "batch_normalization_1 (Batch (None, 26, 26, 32)        128       \n",
            "_________________________________________________________________\n",
            "activation_1 (Activation)    (None, 26, 26, 32)        0         \n",
            "_________________________________________________________________\n",
            "conv2d_2 (Conv2D)            (None, 24, 24, 64)        18496     \n",
            "_________________________________________________________________\n",
            "batch_normalization_2 (Batch (None, 24, 24, 64)        256       \n",
            "_________________________________________________________________\n",
            "activation_2 (Activation)    (None, 24, 24, 64)        0         \n",
            "_________________________________________________________________\n",
            "max_pooling2d_1 (MaxPooling2 (None, 12, 12, 64)        0         \n",
            "_________________________________________________________________\n",
            "dropout_1 (Dropout)          (None, 12, 12, 64)        0         \n",
            "_________________________________________________________________\n",
            "flatten_1 (Flatten)          (None, 9216)              0         \n",
            "_________________________________________________________________\n",
            "dense_1 (Dense)              (None, 128)               1179776   \n",
            "_________________________________________________________________\n",
            "batch_normalization_3 (Batch (None, 128)               512       \n",
            "_________________________________________________________________\n",
            "activation_3 (Activation)    (None, 128)               0         \n",
            "_________________________________________________________________\n",
            "dropout_2 (Dropout)          (None, 128)               0         \n",
            "_________________________________________________________________\n",
            "dense_2 (Dense)              (None, 10)                1290      \n",
            "=================================================================\n",
            "Total params: 1,200,778\n",
            "Trainable params: 1,200,330\n",
            "Non-trainable params: 448\n",
            "_________________________________________________________________\n"
          ],
          "name": "stdout"
        }
      ]
    },
    {
      "cell_type": "code",
      "metadata": {
        "id": "N9YEflZYGWwU",
        "colab_type": "code",
        "colab": {
          "base_uri": "https://localhost:8080/",
          "height": 799
        },
        "outputId": "5f438545-ed14-468b-a83d-b71c4e60949a"
      },
      "source": [
        "hist_adadelta=model.fit(x_train, y_train,\n",
        "          batch_size=batch_size,\n",
        "          epochs=epochs,\n",
        "          verbose=1,\n",
        "          validation_data=(x_test, y_test), callbacks=[reduce_lr])\n",
        "score = model.evaluate(x_test, y_test, verbose=0)\n",
        "print('Test loss:', score[0])\n",
        "print('Test accuracy:', score[1])"
      ],
      "execution_count": null,
      "outputs": [
        {
          "output_type": "stream",
          "text": [
            "Train on 60000 samples, validate on 10000 samples\n",
            "Epoch 1/20\n",
            "60000/60000 [==============================] - 13s 222us/step - loss: 0.0370 - acc: 0.9972 - val_loss: 0.0574 - val_acc: 0.9926\n",
            "Epoch 2/20\n",
            "60000/60000 [==============================] - 12s 202us/step - loss: 0.0380 - acc: 0.9970 - val_loss: 0.0521 - val_acc: 0.9932\n",
            "Epoch 3/20\n",
            "60000/60000 [==============================] - 12s 200us/step - loss: 0.0369 - acc: 0.9975 - val_loss: 0.0553 - val_acc: 0.9932\n",
            "Epoch 4/20\n",
            "60000/60000 [==============================] - 12s 200us/step - loss: 0.0364 - acc: 0.9973 - val_loss: 0.0557 - val_acc: 0.9921\n",
            "Epoch 5/20\n",
            "60000/60000 [==============================] - 12s 200us/step - loss: 0.0366 - acc: 0.9969 - val_loss: 0.0561 - val_acc: 0.9922\n",
            "Epoch 6/20\n",
            "60000/60000 [==============================] - 12s 200us/step - loss: 0.0361 - acc: 0.9975 - val_loss: 0.0564 - val_acc: 0.9927\n",
            "Epoch 7/20\n",
            "60000/60000 [==============================] - 12s 200us/step - loss: 0.0359 - acc: 0.9973 - val_loss: 0.0567 - val_acc: 0.9924\n",
            "Epoch 8/20\n",
            "60000/60000 [==============================] - 12s 199us/step - loss: 0.0331 - acc: 0.9981 - val_loss: 0.0571 - val_acc: 0.9932\n",
            "Epoch 9/20\n",
            "60000/60000 [==============================] - 12s 200us/step - loss: 0.0330 - acc: 0.9981 - val_loss: 0.0564 - val_acc: 0.9934\n",
            "Epoch 10/20\n",
            "60000/60000 [==============================] - 12s 199us/step - loss: 0.0327 - acc: 0.9981 - val_loss: 0.0564 - val_acc: 0.9934\n",
            "Epoch 11/20\n",
            "60000/60000 [==============================] - 12s 200us/step - loss: 0.0333 - acc: 0.9978 - val_loss: 0.0578 - val_acc: 0.9932\n",
            "Epoch 12/20\n",
            "60000/60000 [==============================] - 12s 202us/step - loss: 0.0318 - acc: 0.9985 - val_loss: 0.0577 - val_acc: 0.9932\n",
            "Epoch 13/20\n",
            "60000/60000 [==============================] - 12s 201us/step - loss: 0.0322 - acc: 0.9981 - val_loss: 0.0559 - val_acc: 0.9932\n",
            "Epoch 14/20\n",
            "60000/60000 [==============================] - 12s 200us/step - loss: 0.0320 - acc: 0.9984 - val_loss: 0.0552 - val_acc: 0.9934\n",
            "Epoch 15/20\n",
            "60000/60000 [==============================] - 12s 200us/step - loss: 0.0318 - acc: 0.9984 - val_loss: 0.0549 - val_acc: 0.9934\n",
            "Epoch 16/20\n",
            "60000/60000 [==============================] - 12s 201us/step - loss: 0.0322 - acc: 0.9983 - val_loss: 0.0548 - val_acc: 0.9932\n",
            "Epoch 17/20\n",
            "60000/60000 [==============================] - 12s 200us/step - loss: 0.0316 - acc: 0.9985 - val_loss: 0.0552 - val_acc: 0.9933\n",
            "Epoch 18/20\n",
            "60000/60000 [==============================] - 12s 197us/step - loss: 0.0314 - acc: 0.9984 - val_loss: 0.0552 - val_acc: 0.9933\n",
            "Epoch 19/20\n",
            "60000/60000 [==============================] - 12s 201us/step - loss: 0.0314 - acc: 0.9984 - val_loss: 0.0553 - val_acc: 0.9933\n",
            "Epoch 20/20\n",
            "60000/60000 [==============================] - 12s 200us/step - loss: 0.0317 - acc: 0.9983 - val_loss: 0.0551 - val_acc: 0.9933\n",
            "Test loss: 0.055105292361974714\n",
            "Test accuracy: 0.9933\n"
          ],
          "name": "stdout"
        }
      ]
    },
    {
      "cell_type": "markdown",
      "metadata": {
        "id": "XUTx9aZ5y8-A",
        "colab_type": "text"
      },
      "source": [
        "## Kaydedilen sonuçların çizilmesi için plot fonksiyonunun tanımlanması"
      ]
    },
    {
      "cell_type": "code",
      "metadata": {
        "id": "ZSit3Yplyu8N",
        "colab_type": "code",
        "colab": {}
      },
      "source": [
        "def plot_history(hists, attribute='val_loss', axis=(-1,21,0.85,0.94), loc='lower right'):\n",
        "    ylabel = {'oss': 'loss', 'acc': 'accuracy'}\n",
        "    title = {'val_loss': 'valid. loss', 'loss': 'trn. loss', 'val_acc': 'valid. accuracy', 'acc': 'trn. accuracy'}\n",
        "    num_hists = len(hists)\n",
        "    \n",
        "    plt.figure(figsize=(12, 8))  \n",
        "    plt.axis(axis)\n",
        "    for i in range(num_hists):\n",
        "        plt.plot(hists[i].history[attribute])\n",
        "    plt.title(title[attribute])  \n",
        "    plt.ylabel(ylabel[attribute[-3:]])  \n",
        "    plt.xlabel('epoch')  \n",
        "    plt.legend(['ADAM', 'SGD', 'RMSprob', 'adadelta', 'adagrad'], loc=loc)  \n",
        "\n",
        "    plt.show()"
      ],
      "execution_count": null,
      "outputs": []
    },
    {
      "cell_type": "code",
      "metadata": {
        "id": "qKMJEGdnyxRx",
        "colab_type": "code",
        "colab": {}
      },
      "source": [
        "hists = [hist_ADAM, hist_SGD, hist_RMSprob, hist_adadelta, hist_adagrad]"
      ],
      "execution_count": null,
      "outputs": []
    },
    {
      "cell_type": "markdown",
      "metadata": {
        "id": "NXV_DNLIz6qh",
        "colab_type": "text"
      },
      "source": [
        "## SONUÇLARIN KARŞILAŞTIRILMASI"
      ]
    },
    {
      "cell_type": "code",
      "metadata": {
        "id": "A-DMymV4z5nf",
        "colab_type": "code",
        "colab": {
          "base_uri": "https://localhost:8080/",
          "height": 513
        },
        "outputId": "62283d1f-052f-4c16-fbca-2db416afbf92"
      },
      "source": [
        "plot_history(hists, attribute='acc', axis=(-1,21,0.985,1.0), loc='lower right')"
      ],
      "execution_count": null,
      "outputs": [
        {
          "output_type": "display_data",
          "data": {
            "image/png": "[encoded data removed]",
            "text/plain": [
              "<Figure size 864x576 with 1 Axes>"
            ]
          },
          "metadata": {
            "tags": []
          }
        }
      ]
    },
    {
      "cell_type": "code",
      "metadata": {
        "id": "IH1fj_610Egs",
        "colab_type": "code",
        "colab": {
          "base_uri": "https://localhost:8080/",
          "height": 513
        },
        "outputId": "7f0b5723-8810-4e49-cb24-950ec6d7c531"
      },
      "source": [
        "plot_history(hists, attribute='loss', axis=(-1,21,0.009,0.07), loc='upper right')"
      ],
      "execution_count": null,
      "outputs": [
        {
          "output_type": "display_data",
          "data": {
            "image/png": "[encoded data removed]",
            "text/plain": [
              "<Figure size 864x576 with 1 Axes>"
            ]
          },
          "metadata": {
            "tags": []
          }
        }
      ]
    },
    {
      "cell_type": "markdown",
      "metadata": {
        "id": "6bO_9_u5XOsm",
        "colab_type": "text"
      },
      "source": [
        "# SONUÇ\n",
        "Kullandığımız optimizasyon algoritmasına göre epoch süresince eğitim hatasının nasıl değiştiğini çizdirdiğimiz grafiklerden inceleyebiliyoruz. Hatta öyle ki örneğin derin öğrenme modellerindençok sık kullanılan Stokastik Gradyan/Bayır İniş algoritması için değişmeyen diğer tüm parametreler durumunda bu problem için **20 Epoch** tan daha önce de eğitimi sonlandırabiliriz. \n",
        "\n",
        "![Happy Dance](https://gfx-bloggar.aftonbladet-cdn.se/wp-content/blogs.dir/428/files/2017/07/tenor-21.gif) \n",
        "\n",
        "*Burn After Reading Filminden :)*\n",
        "\n",
        "\n",
        "### Test Yitim Değerlerini de aşağıdaki tablo ile inceleyeyim:\n",
        "\n",
        "\n",
        "![TEST SONUÇLARI](https://i.hizliresim.com/alRa2B.png)\n",
        "\n",
        "\n",
        "\n",
        "\n",
        "---\n",
        "\n",
        "\n"
      ]
    },
    {
      "cell_type": "markdown",
      "metadata": {
        "id": "fXv6BFXzW7zs",
        "colab_type": "text"
      },
      "source": [
        "## KAYNAKLAR\n",
        "---\n",
        "* [Kaynak 1]( http://sebastianruder.com/optimizing-gradient-descent/) Optimizing Gradient Descent-Dean, J., Corrado, G. S., Monga, R., Chen, K., Devin, M., Le, Q. V, … Ng, A. Y. (2012). Large Scale Distributed Deep Networks. NIPS 2012: Neural Information Processing Systems.\n",
        "\n",
        "* [Kaynak 2](http://proceedings.mlr.press/v37/ioffe15.pdf) Ioffe, S., & Szegedy, C. (2015). Batch Normalization : Accelerating Deep Network Training by Reducing Internal Covariate Shift. arXiv Preprint arXiv:1502.03167v3.\n",
        "\n",
        "* [Kaynak 3](http://citeseerx.ist.psu.edu/viewdoc/download?doi=10.1.1.57.5612&rep=rep1&type=pdf) Qian, N. (1999). On the momentum term in gradient descent learning algorithms. Neural Networks : The Official Journal of the International Neural Network Society, 12(1), 145–151.\n",
        "\n",
        "* [Kaynak 4](https://arxiv.org/pdf/1412.6980.pdf) Kingma, D. P., & Ba, J. L. (2015). Adam: a Method for Stochastic Optimization. International Conference on Learning Representations\n",
        "Zaremba, W., & Sutskever, I. (2014). Learning to Execute, 1–25.\n",
        "\n",
        "* [Kaynak 5](https://arxiv.org/pdf/1412.6651.pdf) Zhang, S., Choromanska, A., & LeCun, Y. (2015). Deep learning with Elastic Averaging SGD. Neural Information Processing Systems Conference (NIPS 2015).\n",
        "\n",
        "* [Kaynak 6](https://ieeexplore.ieee.org/document/253713) Darken, C., Chang, J., & Moody, J. (1992). Learning rate schedules for faster stochastic gradient search. Neural Networks for Signal Processing II Proceedings of the 1992 IEEE Workshop, (September). \n",
        "\n",
        "* [Kaynak 7](https://keras.io/optimizers/) Usage of optimizers, Keras Docs\n",
        "\n",
        "* [Kaynak 8](https://www.coursera.org/specializations/deep-learning) Coursera- deeplearning.ai, Deep Learning Specialization\n",
        "\n",
        "* [Kaynak 9](https://imaddabbura.github.io/post/gradient_descent_algorithms/) Gradient Descent Algorithm and Its Variants\n",
        "\n",
        "* [Kaynak 10](https://medium.com/@jrodthoughts/improving-deep-learning-algorithms-optimization-vs-regularization-f9b6e86fee8c) Improving Deep Learning Algorithms: Optimization vs. Regularization\n",
        "\n",
        "* [Kaynak 11](https://towardsdatascience.com/types-of-optimization-algorithms-used-in-neural-networks-and-ways-to-optimize-gradient-95ae5d39529f) Types of Optimization Algorithms used in Neural Networks and Ways to Optimize Gradient Descent\n",
        "\n",
        "* [Kaynak 12](http://cs231n.github.io/optimization-1/) CS231n - Convolutional Neural Networks for Visual Recognition\n",
        "\n",
        "* [Kaynak 13](https://medium.com/deep-learning-turkiye/derin-ogrenme-uygulamalarinda-en-sik-kullanilan-hiper-parametreler-ece8e9125c4) Derin Öğrenme Uygulamalarında En Sık kullanılan Hiper-parametreler"
      ]
    }
  ]
}