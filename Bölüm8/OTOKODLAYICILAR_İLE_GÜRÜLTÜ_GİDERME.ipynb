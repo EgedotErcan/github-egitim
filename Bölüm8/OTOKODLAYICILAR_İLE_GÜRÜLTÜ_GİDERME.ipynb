{
  "nbformat": 4,
  "nbformat_minor": 0,
  "metadata": {
    "kernelspec": {
      "display_name": "Python 3",
      "language": "python",
      "name": "python3"
    },
    "language_info": {
      "codemirror_mode": {
        "name": "ipython",
        "version": 3
      },
      "file_extension": ".py",
      "mimetype": "text/x-python",
      "name": "python",
      "nbconvert_exporter": "python",
      "pygments_lexer": "ipython3",
      "version": "3.4.3"
    },
    "colab": {
      "name": "OTOKODLAYICILAR İLE GÜRÜLTÜ GİDERME.ipynb",
      "provenance": [],
      "collapsed_sections": []
    }
  },
  "cells": [
    {
      "cell_type": "markdown",
      "metadata": {
        "id": "vQHkq_DaCIxM",
        "colab_type": "text"
      },
      "source": [
        "# OTOKODLAYICILAR\n",
        "\n",
        "![](https://cdn.evrimagaci.org/bm2R8z2LCChlqzJNXp5EwbTaZiw=/825x0/filters:no_upscale()/evrimagaci.org%2Fpublic%2Fcontent_media%2F8ee347b9bc1ee90bf1db8f9c00217b5f.png)\n",
        "\n",
        "![](https://miro.medium.com/max/605/1*stpRRU3tUaOtTjRqh24v0w.png)"
      ]
    },
    {
      "cell_type": "code",
      "metadata": {
        "id": "A-WE4tqfKpNF",
        "colab_type": "code",
        "colab": {
          "base_uri": "https://localhost:8080/",
          "height": 139
        },
        "outputId": "0cf0d0ce-7083-421a-b637-bc2c6d6dceea"
      },
      "source": [
        "from google.colab import drive\n",
        "drive.mount('/gdrive')\n",
        "%cd /gdrive"
      ],
      "execution_count": null,
      "outputs": [
        {
          "output_type": "stream",
          "text": [
            "Go to this URL in a browser: https://accounts.google.com/o/oauth2/auth?client_id=947318989803-6bn6qk8qdgf4n4g3pfee6491hc0brc4i.apps.googleusercontent.com&redirect_uri=urn%3aietf%3awg%3aoauth%3a2.0%3aoob&response_type=code&scope=email%20https%3a%2f%2fwww.googleapis.com%2fauth%2fdocs.test%20https%3a%2f%2fwww.googleapis.com%2fauth%2fdrive%20https%3a%2f%2fwww.googleapis.com%2fauth%2fdrive.photos.readonly%20https%3a%2f%2fwww.googleapis.com%2fauth%2fpeopleapi.readonly\n",
            "\n",
            "Enter your authorization code:\n",
            "··········\n",
            "Mounted at /gdrive\n",
            "/gdrive\n"
          ],
          "name": "stdout"
        }
      ]
    },
    {
      "cell_type": "markdown",
      "metadata": {
        "id": "b89j54Tr4v8v",
        "colab_type": "text"
      },
      "source": [
        "Kütüphane Kurulumları"
      ]
    },
    {
      "cell_type": "code",
      "metadata": {
        "id": "Ac0Zwh0fZ8M1",
        "colab_type": "code",
        "colab": {
          "base_uri": "https://localhost:8080/",
          "height": 34
        },
        "outputId": "b1fc6404-066a-454d-e6ac-70d8a18c582b"
      },
      "source": [
        "from keras.layers import Input, Dense, Conv2D, MaxPooling2D, UpSampling2D\n",
        "from keras.models import Model\n",
        "from keras.callbacks import TensorBoard\n",
        "from keras.datasets import mnist\n",
        "import numpy as np\n",
        "from keras import backend as K\n",
        "import matplotlib.pyplot as plt"
      ],
      "execution_count": null,
      "outputs": [
        {
          "output_type": "stream",
          "text": [
            "Using TensorFlow backend.\n"
          ],
          "name": "stderr"
        }
      ]
    },
    {
      "cell_type": "markdown",
      "metadata": {
        "id": "Qk-PTSBZEc-6",
        "colab_type": "text"
      },
      "source": [
        "Veri Kümesini Oluşturmak ve Ayırmak"
      ]
    },
    {
      "cell_type": "code",
      "metadata": {
        "id": "_l8pFzjJEg_N",
        "colab_type": "code",
        "colab": {
          "base_uri": "https://localhost:8080/",
          "height": 51
        },
        "outputId": "2213a95b-cd70-43a3-f747-03c2837f59b9"
      },
      "source": [
        "(x_train, _), (x_test, _) = mnist.load_data()"
      ],
      "execution_count": null,
      "outputs": [
        {
          "output_type": "stream",
          "text": [
            "Downloading data from https://s3.amazonaws.com/img-datasets/mnist.npz\n",
            "11493376/11490434 [==============================] - 0s 0us/step\n"
          ],
          "name": "stdout"
        }
      ]
    },
    {
      "cell_type": "code",
      "metadata": {
        "id": "IhP3vN4FE2eR",
        "colab_type": "code",
        "colab": {}
      },
      "source": [
        "x_train = x_train.astype('float32') / 255\n",
        "x_test = x_test.astype('float32') / 255\n",
        "\n",
        "x_train = np.reshape (x_train, (len(x_train), 28, 28, 1))\n",
        "x_test =  np.reshape (x_test, (len(x_test), 28, 28, 1))"
      ],
      "execution_count": null,
      "outputs": []
    },
    {
      "cell_type": "code",
      "metadata": {
        "id": "OfNATQxALn3j",
        "colab_type": "code",
        "colab": {
          "base_uri": "https://localhost:8080/",
          "height": 51
        },
        "outputId": "3ca68887-59d6-4d2f-f4f6-4d0bd2c6c49d"
      },
      "source": [
        "print('Eğtiim',x_train.shape)\n",
        "print('Test', x_test.shape)"
      ],
      "execution_count": null,
      "outputs": [
        {
          "output_type": "stream",
          "text": [
            "Eğtiim (60000, 28, 28, 1)\n",
            "Test (10000, 28, 28, 1)\n"
          ],
          "name": "stdout"
        }
      ]
    },
    {
      "cell_type": "markdown",
      "metadata": {
        "id": "aDoDqUFc46YD",
        "colab_type": "text"
      },
      "source": [
        "Veriye Gürültü Ekleme Adımı"
      ]
    },
    {
      "cell_type": "code",
      "metadata": {
        "id": "WFbVsaJBZ8M7",
        "colab_type": "code",
        "colab": {}
      },
      "source": [
        "noise_factor = 0.5\n",
        "\n",
        "x_train_noisy = x_train + noise_factor * np.random.normal(loc = 0.0, scale = 1.0, size = x_train.shape)\n",
        "x_test_noisy = x_test + noise_factor * np.random.normal(loc = 0.0, scale = 1.0, size = x_test.shape)\n",
        "\n",
        "x_train_noisy = np.clip(x_train_noisy, 0. ,1.)\n",
        "x_test_noisy = np.clip(x_test_noisy, 0. ,1.)"
      ],
      "execution_count": null,
      "outputs": []
    },
    {
      "cell_type": "markdown",
      "metadata": {
        "id": "79KdEgVYMvGB",
        "colab_type": "text"
      },
      "source": [
        "Gürültülü Veriyi Görselleştirme"
      ]
    },
    {
      "cell_type": "code",
      "metadata": {
        "id": "8z7HyjlOMzHl",
        "colab_type": "code",
        "colab": {
          "base_uri": "https://localhost:8080/",
          "height": 138
        },
        "outputId": "9eac1ace-0872-4329-9c5d-12b641d434ca"
      },
      "source": [
        "%matplotlib inline\n",
        "\n",
        "n = 10\n",
        "\n",
        "plt.figure(figsize = (25,4))\n",
        "\n",
        "for i in range(n):\n",
        "  ax = plt.subplot(2, n, i+1)\n",
        "  plt.imshow(x_test_noisy[i].reshape(28,28))\n",
        "  plt.gray()\n",
        "  ax.get_xaxis().set_visible(False)\n",
        "  ax.get_yaxis().set_visible(False)\n",
        "plt.show()\n",
        "print('gürültülü orijinal görüntüler')"
      ],
      "execution_count": null,
      "outputs": [
        {
          "output_type": "display_data",
          "data": {
            "image/png": "[encoded data removed]",
            "text/plain": [
              "<Figure size 1800x288 with 10 Axes>"
            ]
          },
          "metadata": {
            "tags": [],
            "needs_background": "light"
          }
        },
        {
          "output_type": "stream",
          "text": [
            "gürültülü orijinal görüntüler\n"
          ],
          "name": "stdout"
        }
      ]
    },
    {
      "cell_type": "markdown",
      "metadata": {
        "id": "Ss7DfOF449zY",
        "colab_type": "text"
      },
      "source": [
        "ENCODE Modeli"
      ]
    },
    {
      "cell_type": "code",
      "metadata": {
        "id": "hgqHjtbrZ8M-",
        "colab_type": "code",
        "colab": {}
      },
      "source": [
        "input_img = Input(shape = (28, 28, 1))\n",
        "\n",
        "x = Conv2D(32, (3,3), activation='relu', padding='same')(input_img)\n",
        "\n",
        "x = MaxPooling2D((2,2), padding='same')(x)\n",
        "\n",
        "x = Conv2D(32, (3,3), activation='relu', padding='same')(x)\n",
        "\n",
        "encoded = MaxPooling2D((2,2), padding='same')(x)\n",
        "\n",
        "# (7, 7, 32)"
      ],
      "execution_count": null,
      "outputs": []
    },
    {
      "cell_type": "markdown",
      "metadata": {
        "id": "txRkgDFh5I3V",
        "colab_type": "text"
      },
      "source": [
        "DECODE Modeli"
      ]
    },
    {
      "cell_type": "code",
      "metadata": {
        "id": "y3n9eP3m5IZN",
        "colab_type": "code",
        "colab": {}
      },
      "source": [
        "x = Conv2D(32, (3,3), activation='relu', padding='same')(encoded)\n",
        "\n",
        "x = UpSampling2D((2,2))(x)\n",
        "\n",
        "x = Conv2D(32, (3,3), activation='relu', padding='same')(x)\n",
        "\n",
        "x = UpSampling2D((2,2))(x)\n",
        "\n",
        "decoded = Conv2D(1, (3,3), activation='sigmoid', padding='same')(x)"
      ],
      "execution_count": null,
      "outputs": []
    },
    {
      "cell_type": "markdown",
      "metadata": {
        "id": "etF05T9d5Lpa",
        "colab_type": "text"
      },
      "source": [
        "Modelin Derlenmesi ve Eğitilmesi"
      ]
    },
    {
      "cell_type": "code",
      "metadata": {
        "id": "RJ1hj6AH5OKz",
        "colab_type": "code",
        "colab": {}
      },
      "source": [
        "autoencoder = Model(input_img, decoded)\n",
        "autoencoder.compile(optimizer='adadelta', loss='binary_crossentropy')"
      ],
      "execution_count": null,
      "outputs": []
    },
    {
      "cell_type": "code",
      "metadata": {
        "id": "hz2YiK0iZ8NA",
        "colab_type": "code",
        "colab": {
          "base_uri": "https://localhost:8080/",
          "height": 374
        },
        "outputId": "6a99cd94-8f92-4ff1-b3b2-c366add58bce"
      },
      "source": [
        "autoencoder.fit(x_train_noisy, x_train,\n",
        "                epochs=10,\n",
        "                batch_size=128,\n",
        "                shuffle=True,\n",
        "                validation_data=(x_test_noisy, x_test),\n",
        "                callbacks=[TensorBoard(log_dir='/tmp/tb', histogram_freq=0, write_graph=False)])\n",
        "\n",
        "decoded_imgs = autoencoder.predict(x_test)"
      ],
      "execution_count": null,
      "outputs": [
        {
          "output_type": "stream",
          "text": [
            "Train on 60000 samples, validate on 10000 samples\n",
            "Epoch 1/10\n",
            "60000/60000 [==============================] - 150s 3ms/step - loss: 0.1285 - val_loss: 0.1192\n",
            "Epoch 2/10\n",
            "60000/60000 [==============================] - 150s 2ms/step - loss: 0.1152 - val_loss: 0.1106\n",
            "Epoch 3/10\n",
            "60000/60000 [==============================] - 150s 3ms/step - loss: 0.1097 - val_loss: 0.1074\n",
            "Epoch 4/10\n",
            "60000/60000 [==============================] - 152s 3ms/step - loss: 0.1068 - val_loss: 0.1048\n",
            "Epoch 5/10\n",
            "60000/60000 [==============================] - 151s 3ms/step - loss: 0.1049 - val_loss: 0.1035\n",
            "Epoch 6/10\n",
            "60000/60000 [==============================] - 148s 2ms/step - loss: 0.1035 - val_loss: 0.1008\n",
            "Epoch 7/10\n",
            "60000/60000 [==============================] - 151s 3ms/step - loss: 0.1022 - val_loss: 0.1002\n",
            "Epoch 8/10\n",
            "60000/60000 [==============================] - 151s 3ms/step - loss: 0.1016 - val_loss: 0.0996\n",
            "Epoch 9/10\n",
            "60000/60000 [==============================] - 151s 3ms/step - loss: 0.1011 - val_loss: 0.0999\n",
            "Epoch 10/10\n",
            "60000/60000 [==============================] - 151s 3ms/step - loss: 0.1006 - val_loss: 0.0987\n"
          ],
          "name": "stdout"
        }
      ]
    },
    {
      "cell_type": "markdown",
      "metadata": {
        "id": "o8sZbean5SpA",
        "colab_type": "text"
      },
      "source": [
        "Sonuçların Görselleştirilmesi"
      ]
    },
    {
      "cell_type": "code",
      "metadata": {
        "id": "ZE25ghejZ8ND",
        "colab_type": "code",
        "colab": {}
      },
      "source": [
        ""
      ],
      "execution_count": null,
      "outputs": []
    },
    {
      "cell_type": "code",
      "metadata": {
        "id": "rz_GMRxpZ8NG",
        "colab_type": "code",
        "colab": {}
      },
      "source": [
        ""
      ],
      "execution_count": null,
      "outputs": []
    },
    {
      "cell_type": "code",
      "metadata": {
        "id": "_wcw_zPVBlux",
        "colab_type": "code",
        "colab": {}
      },
      "source": [
        ""
      ],
      "execution_count": null,
      "outputs": []
    }
  ]
}