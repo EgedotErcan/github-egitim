{
  "nbformat": 4,
  "nbformat_minor": 0,
  "metadata": {
    "colab": {
      "name": "Keras_F_API.ipynb",
      "provenance": []
    },
    "kernelspec": {
      "name": "python3",
      "display_name": "Python 3"
    },
    "accelerator": "GPU"
  },
  "cells": [
    {
      "cell_type": "markdown",
      "metadata": {
        "id": "DhQBXuUwrUL2",
        "colab_type": "text"
      },
      "source": [
        "# Keras `functional` API kullanımı\n"
      ]
    },
    {
      "cell_type": "markdown",
      "metadata": {
        "id": "jIEH3-x6q9FT",
        "colab_type": "text"
      },
      "source": [
        "![](https://i.hizliresim.com/yEMKXv.png)"
      ]
    },
    {
      "cell_type": "markdown",
      "metadata": {
        "id": "LxrPdspMrbX0",
        "colab_type": "text"
      },
      "source": [
        "Kimlik doğrulama"
      ]
    },
    {
      "cell_type": "code",
      "metadata": {
        "id": "4QyRTPVFDZ31",
        "colab_type": "code",
        "colab": {
          "base_uri": "https://localhost:8080/",
          "height": 139
        },
        "outputId": "d4fd080e-859e-4200-f3d9-e2640a4bdee8"
      },
      "source": [
        "from google.colab import drive\n",
        "drive.mount('/gdrive')\n",
        "%cd /gdrive"
      ],
      "execution_count": null,
      "outputs": [
        {
          "output_type": "stream",
          "text": [
            "Go to this URL in a browser: https://accounts.google.com/o/oauth2/auth?client_id=947318989803-6bn6qk8qdgf4n4g3pfee6491hc0brc4i.apps.googleusercontent.com&redirect_uri=urn%3aietf%3awg%3aoauth%3a2.0%3aoob&response_type=code&scope=email%20https%3a%2f%2fwww.googleapis.com%2fauth%2fdocs.test%20https%3a%2f%2fwww.googleapis.com%2fauth%2fdrive%20https%3a%2f%2fwww.googleapis.com%2fauth%2fdrive.photos.readonly%20https%3a%2f%2fwww.googleapis.com%2fauth%2fpeopleapi.readonly\n",
            "\n",
            "Enter your authorization code:\n",
            "··········\n",
            "Mounted at /gdrive\n",
            "/gdrive\n"
          ],
          "name": "stdout"
        }
      ]
    },
    {
      "cell_type": "markdown",
      "metadata": {
        "id": "sh7Fy82FrfJw",
        "colab_type": "text"
      },
      "source": [
        "### Kütüphane kurulumları ve ağların oluşturulması\n"
      ]
    },
    {
      "cell_type": "code",
      "metadata": {
        "id": "_aPbqHvnFDgr",
        "colab_type": "code",
        "colab": {
          "base_uri": "https://localhost:8080/",
          "height": 34
        },
        "outputId": "e4794d53-fa4c-486a-b8e8-79bcd7f841a9"
      },
      "source": [
        "from keras import Input, layers"
      ],
      "execution_count": null,
      "outputs": [
        {
          "output_type": "stream",
          "text": [
            "Using TensorFlow backend.\n"
          ],
          "name": "stderr"
        }
      ]
    },
    {
      "cell_type": "code",
      "metadata": {
        "id": "STvVv7SeFhhq",
        "colab_type": "code",
        "colab": {}
      },
      "source": [
        "input_tensor = Input((32,))\n",
        "dense = layers.Dense(32, activation='relu')\n",
        "output_tensor = dense(input_tensor)"
      ],
      "execution_count": null,
      "outputs": []
    },
    {
      "cell_type": "code",
      "metadata": {
        "id": "mNSucklHFxzU",
        "colab_type": "code",
        "colab": {}
      },
      "source": [
        "from keras.models import Sequential, Model"
      ],
      "execution_count": null,
      "outputs": []
    },
    {
      "cell_type": "markdown",
      "metadata": {
        "id": "ZOio6AkArpWu",
        "colab_type": "text"
      },
      "source": [
        "### Sequential Model\n"
      ]
    },
    {
      "cell_type": "code",
      "metadata": {
        "id": "YV07Xj0owhfn",
        "colab_type": "code",
        "colab": {
          "base_uri": "https://localhost:8080/",
          "height": 255
        },
        "outputId": "77a74aa1-ad26-4b4d-acd7-8f4dd945a582"
      },
      "source": [
        "seq_model = Sequential()\n",
        "seq_model.add(layers.Dense(32, activation ='relu', input_shape=(64, )))\n",
        "seq_model.add(layers.Dense(32, activation ='relu'))\n",
        "seq_model.add(layers.Dense(10, activation ='sigmoid'))\n",
        "\n",
        "seq_model.summary()"
      ],
      "execution_count": null,
      "outputs": [
        {
          "output_type": "stream",
          "text": [
            "Model: \"sequential_5\"\n",
            "_________________________________________________________________\n",
            "Layer (type)                 Output Shape              Param #   \n",
            "=================================================================\n",
            "dense_13 (Dense)             (None, 32)                2080      \n",
            "_________________________________________________________________\n",
            "dense_14 (Dense)             (None, 32)                1056      \n",
            "_________________________________________________________________\n",
            "dense_15 (Dense)             (None, 10)                330       \n",
            "=================================================================\n",
            "Total params: 3,466\n",
            "Trainable params: 3,466\n",
            "Non-trainable params: 0\n",
            "_________________________________________________________________\n"
          ],
          "name": "stdout"
        }
      ]
    },
    {
      "cell_type": "markdown",
      "metadata": {
        "id": "LdIS2tdArtSB",
        "colab_type": "text"
      },
      "source": [
        "### `functional` Model"
      ]
    },
    {
      "cell_type": "code",
      "metadata": {
        "id": "bfnl-GQXGdBn",
        "colab_type": "code",
        "colab": {
          "base_uri": "https://localhost:8080/",
          "height": 289
        },
        "outputId": "1647e3cd-5dd3-471b-9aeb-879d49d8e411"
      },
      "source": [
        "input_tensor = Input(shape = (64,))\n",
        "\n",
        "x = layers.Dense(32, activation='relu')(input_tensor)\n",
        "\n",
        "x =layers.Dense(32, activation='relu')(x)\n",
        "\n",
        "output_tensor = layers.Dense(10, activation='softmax')(x)\n",
        "\n",
        "model = Model(input_tensor, output_tensor)\n",
        "\n",
        "model.summary()"
      ],
      "execution_count": null,
      "outputs": [
        {
          "output_type": "stream",
          "text": [
            "Model: \"model_1\"\n",
            "_________________________________________________________________\n",
            "Layer (type)                 Output Shape              Param #   \n",
            "=================================================================\n",
            "input_2 (InputLayer)         (None, 64)                0         \n",
            "_________________________________________________________________\n",
            "dense_16 (Dense)             (None, 32)                2080      \n",
            "_________________________________________________________________\n",
            "dense_17 (Dense)             (None, 32)                1056      \n",
            "_________________________________________________________________\n",
            "dense_18 (Dense)             (None, 10)                330       \n",
            "=================================================================\n",
            "Total params: 3,466\n",
            "Trainable params: 3,466\n",
            "Non-trainable params: 0\n",
            "_________________________________________________________________\n"
          ],
          "name": "stdout"
        }
      ]
    },
    {
      "cell_type": "markdown",
      "metadata": {
        "id": "VpJB6hu0slIv",
        "colab_type": "text"
      },
      "source": [
        "### Modelin derlenmesi\n"
      ]
    },
    {
      "cell_type": "code",
      "metadata": {
        "id": "pB_pkRz2HxME",
        "colab_type": "code",
        "colab": {}
      },
      "source": [
        "model.compile(optimizer='rmsprop', loss = 'categorical_crossentropy')"
      ],
      "execution_count": null,
      "outputs": []
    },
    {
      "cell_type": "markdown",
      "metadata": {
        "id": "Qi-fZDmisqJl",
        "colab_type": "text"
      },
      "source": [
        "Eğitim için rastgele bir küme oluşturmak"
      ]
    },
    {
      "cell_type": "code",
      "metadata": {
        "id": "ulQ7MwpLIWR3",
        "colab_type": "code",
        "colab": {}
      },
      "source": [
        "import numpy as np"
      ],
      "execution_count": null,
      "outputs": []
    },
    {
      "cell_type": "code",
      "metadata": {
        "id": "lwsfcX1NIYHC",
        "colab_type": "code",
        "colab": {}
      },
      "source": [
        "x_train = np.random.random((1000, 64))\n",
        "y_train = np.random.random((1000, 10))"
      ],
      "execution_count": null,
      "outputs": []
    },
    {
      "cell_type": "markdown",
      "metadata": {
        "id": "QR3PL0Kwst4P",
        "colab_type": "text"
      },
      "source": [
        "### Modelin Eğitilmesi\n"
      ]
    },
    {
      "cell_type": "code",
      "metadata": {
        "id": "ZE9eJX_kIjAl",
        "colab_type": "code",
        "colab": {
          "base_uri": "https://localhost:8080/",
          "height": 374
        },
        "outputId": "7ee91043-cdb6-4200-c8ef-c889358e6e07"
      },
      "source": [
        "model.fit(x_train, y_train, epochs = 10, batch_size = 128)\n",
        "\n",
        "score = model.evaluate(x_train, y_train)"
      ],
      "execution_count": null,
      "outputs": [
        {
          "output_type": "stream",
          "text": [
            "Epoch 1/10\n",
            "1000/1000 [==============================] - 2s 2ms/step - loss: 11.8206\n",
            "Epoch 2/10\n",
            "1000/1000 [==============================] - 0s 21us/step - loss: 12.2268\n",
            "Epoch 3/10\n",
            "1000/1000 [==============================] - 0s 20us/step - loss: 12.9867\n",
            "Epoch 4/10\n",
            "1000/1000 [==============================] - 0s 19us/step - loss: 13.9611\n",
            "Epoch 5/10\n",
            "1000/1000 [==============================] - 0s 18us/step - loss: 15.1782\n",
            "Epoch 6/10\n",
            "1000/1000 [==============================] - 0s 19us/step - loss: 16.5081\n",
            "Epoch 7/10\n",
            "1000/1000 [==============================] - 0s 19us/step - loss: 18.1091\n",
            "Epoch 8/10\n",
            "1000/1000 [==============================] - 0s 20us/step - loss: 19.9566\n",
            "Epoch 9/10\n",
            "1000/1000 [==============================] - 0s 23us/step - loss: 21.9397\n",
            "Epoch 10/10\n",
            "1000/1000 [==============================] - 0s 18us/step - loss: 24.1517\n",
            "1000/1000 [==============================] - 0s 60us/step\n"
          ],
          "name": "stdout"
        }
      ]
    },
    {
      "cell_type": "code",
      "metadata": {
        "id": "MTfYpXwmIz4r",
        "colab_type": "code",
        "colab": {}
      },
      "source": [
        ""
      ],
      "execution_count": null,
      "outputs": []
    }
  ]
}